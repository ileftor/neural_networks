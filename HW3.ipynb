{
  "nbformat": 4,
  "nbformat_minor": 0,
  "metadata": {
    "colab": {
      "name": "HW3.ipynb",
      "provenance": [],
      "collapsed_sections": []
    },
    "kernelspec": {
      "name": "python3",
      "display_name": "Python 3"
    },
    "language_info": {
      "name": "python"
    },
    "accelerator": "GPU"
  },
  "cells": [
    {
      "cell_type": "markdown",
      "metadata": {
        "id": "nhQMa9bnknEI"
      },
      "source": [
        "# **Домашнее задание 3**"
      ]
    },
    {
      "cell_type": "markdown",
      "metadata": {
        "id": "vLDFxivbk1SY"
      },
      "source": [
        "**1. Постройте нейронную сеть(берем простую линейную сеть, которую разбирали на уроке: меняем число слоев, число нейронов , типы активации, тип оптимизатора)  на датасет from sklearn.datasets import load_boston.** \n",
        "\n",
        "\n",
        "\n",
        "\n"
      ]
    },
    {
      "cell_type": "code",
      "metadata": {
        "id": "x_4_WnknkUwK"
      },
      "source": [
        "%tensorflow_version 2.x"
      ],
      "execution_count": 19,
      "outputs": []
    },
    {
      "cell_type": "code",
      "metadata": {
        "id": "-EqOZ_4ElRfS"
      },
      "source": [
        "\n",
        "import pandas as pd\n",
        "import numpy as np\n",
        "\n",
        "from sklearn.datasets import load_boston\n",
        "from sklearn.model_selection import train_test_split\n",
        "from sklearn.metrics import mean_absolute_error as mae, mean_squared_error as mse, r2_score as r2\n",
        "\n",
        "import tensorflow as tf\n",
        "from tensorflow import keras\n",
        "from tensorflow.keras.models import Sequential\n",
        "from tensorflow.keras.layers import Dense\n"
      ],
      "execution_count": 39,
      "outputs": []
    },
    {
      "cell_type": "code",
      "metadata": {
        "colab": {
          "base_uri": "https://localhost:8080/",
          "height": 144
        },
        "id": "WO_n_0y3lRiO",
        "outputId": "738dce31-2b2d-4396-c7a1-f6f2f53f9da1"
      },
      "source": [
        "boston = load_boston()\n",
        "\n",
        "df = pd.DataFrame(boston.data, columns=boston.feature_names)\n",
        "df.head(3)"
      ],
      "execution_count": 7,
      "outputs": [
        {
          "output_type": "execute_result",
          "data": {
            "text/html": [
              "<div>\n",
              "<style scoped>\n",
              "    .dataframe tbody tr th:only-of-type {\n",
              "        vertical-align: middle;\n",
              "    }\n",
              "\n",
              "    .dataframe tbody tr th {\n",
              "        vertical-align: top;\n",
              "    }\n",
              "\n",
              "    .dataframe thead th {\n",
              "        text-align: right;\n",
              "    }\n",
              "</style>\n",
              "<table border=\"1\" class=\"dataframe\">\n",
              "  <thead>\n",
              "    <tr style=\"text-align: right;\">\n",
              "      <th></th>\n",
              "      <th>CRIM</th>\n",
              "      <th>ZN</th>\n",
              "      <th>INDUS</th>\n",
              "      <th>CHAS</th>\n",
              "      <th>NOX</th>\n",
              "      <th>RM</th>\n",
              "      <th>AGE</th>\n",
              "      <th>DIS</th>\n",
              "      <th>RAD</th>\n",
              "      <th>TAX</th>\n",
              "      <th>PTRATIO</th>\n",
              "      <th>B</th>\n",
              "      <th>LSTAT</th>\n",
              "    </tr>\n",
              "  </thead>\n",
              "  <tbody>\n",
              "    <tr>\n",
              "      <th>0</th>\n",
              "      <td>0.00632</td>\n",
              "      <td>18.0</td>\n",
              "      <td>2.31</td>\n",
              "      <td>0.0</td>\n",
              "      <td>0.538</td>\n",
              "      <td>6.575</td>\n",
              "      <td>65.2</td>\n",
              "      <td>4.0900</td>\n",
              "      <td>1.0</td>\n",
              "      <td>296.0</td>\n",
              "      <td>15.3</td>\n",
              "      <td>396.90</td>\n",
              "      <td>4.98</td>\n",
              "    </tr>\n",
              "    <tr>\n",
              "      <th>1</th>\n",
              "      <td>0.02731</td>\n",
              "      <td>0.0</td>\n",
              "      <td>7.07</td>\n",
              "      <td>0.0</td>\n",
              "      <td>0.469</td>\n",
              "      <td>6.421</td>\n",
              "      <td>78.9</td>\n",
              "      <td>4.9671</td>\n",
              "      <td>2.0</td>\n",
              "      <td>242.0</td>\n",
              "      <td>17.8</td>\n",
              "      <td>396.90</td>\n",
              "      <td>9.14</td>\n",
              "    </tr>\n",
              "    <tr>\n",
              "      <th>2</th>\n",
              "      <td>0.02729</td>\n",
              "      <td>0.0</td>\n",
              "      <td>7.07</td>\n",
              "      <td>0.0</td>\n",
              "      <td>0.469</td>\n",
              "      <td>7.185</td>\n",
              "      <td>61.1</td>\n",
              "      <td>4.9671</td>\n",
              "      <td>2.0</td>\n",
              "      <td>242.0</td>\n",
              "      <td>17.8</td>\n",
              "      <td>392.83</td>\n",
              "      <td>4.03</td>\n",
              "    </tr>\n",
              "  </tbody>\n",
              "</table>\n",
              "</div>"
            ],
            "text/plain": [
              "      CRIM    ZN  INDUS  CHAS    NOX  ...  RAD    TAX  PTRATIO       B  LSTAT\n",
              "0  0.00632  18.0   2.31   0.0  0.538  ...  1.0  296.0     15.3  396.90   4.98\n",
              "1  0.02731   0.0   7.07   0.0  0.469  ...  2.0  242.0     17.8  396.90   9.14\n",
              "2  0.02729   0.0   7.07   0.0  0.469  ...  2.0  242.0     17.8  392.83   4.03\n",
              "\n",
              "[3 rows x 13 columns]"
            ]
          },
          "metadata": {
            "tags": []
          },
          "execution_count": 7
        }
      ]
    },
    {
      "cell_type": "code",
      "metadata": {
        "id": "9Kj_9yQrlRk1"
      },
      "source": [
        "data = boston.data\n",
        "target = boston.target"
      ],
      "execution_count": 8,
      "outputs": []
    },
    {
      "cell_type": "code",
      "metadata": {
        "id": "NsoLsyhhlRnY"
      },
      "source": [
        "train_data, test_data, train_target, test_target = train_test_split(data, target, test_size=0.20)"
      ],
      "execution_count": 10,
      "outputs": []
    },
    {
      "cell_type": "code",
      "metadata": {
        "colab": {
          "base_uri": "https://localhost:8080/"
        },
        "id": "5XOTGC6blRqD",
        "outputId": "99d6d6ac-a6fa-4da3-a072-74065921957f"
      },
      "source": [
        "train_data.shape"
      ],
      "execution_count": 13,
      "outputs": [
        {
          "output_type": "execute_result",
          "data": {
            "text/plain": [
              "(404, 13)"
            ]
          },
          "metadata": {
            "tags": []
          },
          "execution_count": 13
        }
      ]
    },
    {
      "cell_type": "code",
      "metadata": {
        "id": "vgvVNCxxz-JS"
      },
      "source": [
        "model = keras.Sequential([\n",
        "  keras.layers.Dense(64, activation='relu',\n",
        "                      input_shape=(train_data.shape[1],)),\n",
        "  keras.layers.Dense(32, activation='relu'),\n",
        "  keras.layers.Dense(1)\n",
        "])"
      ],
      "execution_count": 32,
      "outputs": []
    },
    {
      "cell_type": "code",
      "metadata": {
        "id": "X7YkwIuoz-L-"
      },
      "source": [
        "model.compile(loss='mse',\n",
        "              optimizer=keras.optimizers.Adam(learning_rate=0.001),\n",
        "              metrics=['mae'])"
      ],
      "execution_count": 33,
      "outputs": []
    },
    {
      "cell_type": "code",
      "metadata": {
        "colab": {
          "base_uri": "https://localhost:8080/"
        },
        "id": "cGOmO9LMz-Oy",
        "outputId": "ea130b79-e024-47f7-a2b7-55ab24329841"
      },
      "source": [
        "model.fit(\n",
        "    train_data,\n",
        "    train_target,\n",
        "    epochs=5,\n",
        "    verbose = 0\n",
        ")"
      ],
      "execution_count": 34,
      "outputs": [
        {
          "output_type": "execute_result",
          "data": {
            "text/plain": [
              "<tensorflow.python.keras.callbacks.History at 0x7fbc200b6d90>"
            ]
          },
          "metadata": {
            "tags": []
          },
          "execution_count": 34
        }
      ]
    },
    {
      "cell_type": "code",
      "metadata": {
        "colab": {
          "base_uri": "https://localhost:8080/"
        },
        "id": "y8kEqInIz-Q8",
        "outputId": "4872c100-c62f-4f60-f14b-7feee81ef5b3"
      },
      "source": [
        "model.evaluate(train_data, train_target)"
      ],
      "execution_count": 35,
      "outputs": [
        {
          "output_type": "stream",
          "text": [
            "13/13 [==============================] - 0s 1ms/step - loss: 63.6750 - mae: 6.3390\n"
          ],
          "name": "stdout"
        },
        {
          "output_type": "execute_result",
          "data": {
            "text/plain": [
              "[63.67496871948242, 6.338968276977539]"
            ]
          },
          "metadata": {
            "tags": []
          },
          "execution_count": 35
        }
      ]
    },
    {
      "cell_type": "markdown",
      "metadata": {
        "id": "uo8ZqqgFk1ft"
      },
      "source": [
        "**2. Измените функцию потерь и метрику для этой задачи. Постройте 10-15 вариантов и сведите результаты их работы в таблицу  Опишите, какого результата вы добились от нейросети? Что помогло вам улучшить ее точность?**"
      ]
    },
    {
      "cell_type": "code",
      "metadata": {
        "colab": {
          "base_uri": "https://localhost:8080/",
          "height": 424
        },
        "id": "I3MJSoWP_WUg",
        "outputId": "faa6a002-f46b-47c4-8750-07ad6adfd24f"
      },
      "source": [
        "results = []\n",
        "\n",
        "for n in range(16):\n",
        "  for metrics in ['mean_absolute_error', 'mean_squared_error']:\n",
        "      for loss in ['mse', 'mae']:\n",
        "        model = keras.Sequential([\n",
        "        keras.layers.Dense(64, activation='relu',input_shape=(train_data.shape[1],)),\n",
        "        keras.layers.Dense(32, activation='relu'),\n",
        "        keras.layers.Dense(1)\n",
        "        ])\n",
        "\n",
        "        result = {}\n",
        "\n",
        "        model.compile(optimizer=keras.optimizers.Adam(learning_rate=0.001),\n",
        "                      loss=loss,\n",
        "                      metrics=metrics)\n",
        "            \n",
        "        model.fit(train_data, train_target,\n",
        "                  epochs=200, verbose = 0)\n",
        "        \n",
        "        predictions = model.predict(test_data)\n",
        "\n",
        "        result['n'] = n\n",
        "        result['metrics'] = metrics\n",
        "        result['loss'] = loss\n",
        "        result['r2'] = round(r2(test_target, predictions.copy().flatten()),5)\n",
        "        result['rmse'] = round(np.sqrt(mse(test_target, predictions.copy().flatten())),5)\n",
        "        result['mse'] = round(mse(test_target, predictions.copy().flatten()),5)\n",
        "        result['mae'] = round(mae(test_target, predictions.copy().flatten()),5)\n",
        "\n",
        "\n",
        "        results.append(result)\n",
        "\n",
        "\n",
        "result = pd.DataFrame(results)\n",
        "result\n"
      ],
      "execution_count": 57,
      "outputs": [
        {
          "output_type": "execute_result",
          "data": {
            "text/html": [
              "<div>\n",
              "<style scoped>\n",
              "    .dataframe tbody tr th:only-of-type {\n",
              "        vertical-align: middle;\n",
              "    }\n",
              "\n",
              "    .dataframe tbody tr th {\n",
              "        vertical-align: top;\n",
              "    }\n",
              "\n",
              "    .dataframe thead th {\n",
              "        text-align: right;\n",
              "    }\n",
              "</style>\n",
              "<table border=\"1\" class=\"dataframe\">\n",
              "  <thead>\n",
              "    <tr style=\"text-align: right;\">\n",
              "      <th></th>\n",
              "      <th>n</th>\n",
              "      <th>metrics</th>\n",
              "      <th>loss</th>\n",
              "      <th>r2</th>\n",
              "      <th>rmse</th>\n",
              "      <th>mse</th>\n",
              "      <th>mae</th>\n",
              "    </tr>\n",
              "  </thead>\n",
              "  <tbody>\n",
              "    <tr>\n",
              "      <th>0</th>\n",
              "      <td>0</td>\n",
              "      <td>mean_absolute_error</td>\n",
              "      <td>mse</td>\n",
              "      <td>0.65879</td>\n",
              "      <td>5.26216</td>\n",
              "      <td>27.69032</td>\n",
              "      <td>3.57748</td>\n",
              "    </tr>\n",
              "    <tr>\n",
              "      <th>1</th>\n",
              "      <td>0</td>\n",
              "      <td>mean_absolute_error</td>\n",
              "      <td>mae</td>\n",
              "      <td>0.58159</td>\n",
              "      <td>5.82711</td>\n",
              "      <td>33.95522</td>\n",
              "      <td>3.74742</td>\n",
              "    </tr>\n",
              "    <tr>\n",
              "      <th>2</th>\n",
              "      <td>0</td>\n",
              "      <td>mean_squared_error</td>\n",
              "      <td>mse</td>\n",
              "      <td>0.58165</td>\n",
              "      <td>5.82672</td>\n",
              "      <td>33.95063</td>\n",
              "      <td>4.29803</td>\n",
              "    </tr>\n",
              "    <tr>\n",
              "      <th>3</th>\n",
              "      <td>0</td>\n",
              "      <td>mean_squared_error</td>\n",
              "      <td>mae</td>\n",
              "      <td>0.64062</td>\n",
              "      <td>5.40043</td>\n",
              "      <td>29.16463</td>\n",
              "      <td>3.50115</td>\n",
              "    </tr>\n",
              "    <tr>\n",
              "      <th>4</th>\n",
              "      <td>1</td>\n",
              "      <td>mean_absolute_error</td>\n",
              "      <td>mse</td>\n",
              "      <td>0.62093</td>\n",
              "      <td>5.54645</td>\n",
              "      <td>30.76313</td>\n",
              "      <td>3.92810</td>\n",
              "    </tr>\n",
              "    <tr>\n",
              "      <th>...</th>\n",
              "      <td>...</td>\n",
              "      <td>...</td>\n",
              "      <td>...</td>\n",
              "      <td>...</td>\n",
              "      <td>...</td>\n",
              "      <td>...</td>\n",
              "      <td>...</td>\n",
              "    </tr>\n",
              "    <tr>\n",
              "      <th>59</th>\n",
              "      <td>14</td>\n",
              "      <td>mean_squared_error</td>\n",
              "      <td>mae</td>\n",
              "      <td>0.62329</td>\n",
              "      <td>5.52914</td>\n",
              "      <td>30.57138</td>\n",
              "      <td>3.51661</td>\n",
              "    </tr>\n",
              "    <tr>\n",
              "      <th>60</th>\n",
              "      <td>15</td>\n",
              "      <td>mean_absolute_error</td>\n",
              "      <td>mse</td>\n",
              "      <td>0.68138</td>\n",
              "      <td>5.08501</td>\n",
              "      <td>25.85734</td>\n",
              "      <td>3.48369</td>\n",
              "    </tr>\n",
              "    <tr>\n",
              "      <th>61</th>\n",
              "      <td>15</td>\n",
              "      <td>mean_absolute_error</td>\n",
              "      <td>mae</td>\n",
              "      <td>0.69553</td>\n",
              "      <td>4.97081</td>\n",
              "      <td>24.70898</td>\n",
              "      <td>3.48416</td>\n",
              "    </tr>\n",
              "    <tr>\n",
              "      <th>62</th>\n",
              "      <td>15</td>\n",
              "      <td>mean_squared_error</td>\n",
              "      <td>mse</td>\n",
              "      <td>0.69400</td>\n",
              "      <td>4.98326</td>\n",
              "      <td>24.83285</td>\n",
              "      <td>3.54146</td>\n",
              "    </tr>\n",
              "    <tr>\n",
              "      <th>63</th>\n",
              "      <td>15</td>\n",
              "      <td>mean_squared_error</td>\n",
              "      <td>mae</td>\n",
              "      <td>0.64607</td>\n",
              "      <td>5.35938</td>\n",
              "      <td>28.72294</td>\n",
              "      <td>3.71239</td>\n",
              "    </tr>\n",
              "  </tbody>\n",
              "</table>\n",
              "<p>64 rows × 7 columns</p>\n",
              "</div>"
            ],
            "text/plain": [
              "     n              metrics loss       r2     rmse       mse      mae\n",
              "0    0  mean_absolute_error  mse  0.65879  5.26216  27.69032  3.57748\n",
              "1    0  mean_absolute_error  mae  0.58159  5.82711  33.95522  3.74742\n",
              "2    0   mean_squared_error  mse  0.58165  5.82672  33.95063  4.29803\n",
              "3    0   mean_squared_error  mae  0.64062  5.40043  29.16463  3.50115\n",
              "4    1  mean_absolute_error  mse  0.62093  5.54645  30.76313  3.92810\n",
              "..  ..                  ...  ...      ...      ...       ...      ...\n",
              "59  14   mean_squared_error  mae  0.62329  5.52914  30.57138  3.51661\n",
              "60  15  mean_absolute_error  mse  0.68138  5.08501  25.85734  3.48369\n",
              "61  15  mean_absolute_error  mae  0.69553  4.97081  24.70898  3.48416\n",
              "62  15   mean_squared_error  mse  0.69400  4.98326  24.83285  3.54146\n",
              "63  15   mean_squared_error  mae  0.64607  5.35938  28.72294  3.71239\n",
              "\n",
              "[64 rows x 7 columns]"
            ]
          },
          "metadata": {
            "tags": []
          },
          "execution_count": 57
        }
      ]
    },
    {
      "cell_type": "code",
      "metadata": {
        "colab": {
          "base_uri": "https://localhost:8080/"
        },
        "id": "QMRJP1MfIyPI",
        "outputId": "2d7c6343-bbf7-4070-dfea-6c74374757e4"
      },
      "source": [
        "result.loc[(result['metrics']== 'mean_absolute_error') & (result['loss'] == 'mse')].mean()"
      ],
      "execution_count": 62,
      "outputs": [
        {
          "output_type": "execute_result",
          "data": {
            "text/plain": [
              "n        7.500000\n",
              "r2       0.680626\n",
              "rmse     5.070312\n",
              "mse     25.918351\n",
              "mae      3.608514\n",
              "dtype: float64"
            ]
          },
          "metadata": {
            "tags": []
          },
          "execution_count": 62
        }
      ]
    },
    {
      "cell_type": "code",
      "metadata": {
        "colab": {
          "base_uri": "https://localhost:8080/"
        },
        "id": "7lQBwEeAKTx8",
        "outputId": "1d74e3b4-e3ce-44e7-a14c-4c0560677912"
      },
      "source": [
        "result.loc[(result['metrics']== 'mean_absolute_error') & (result['loss'] == 'mae')].mean()"
      ],
      "execution_count": 63,
      "outputs": [
        {
          "output_type": "execute_result",
          "data": {
            "text/plain": [
              "n        7.500000\n",
              "r2       0.629511\n",
              "rmse     5.466466\n",
              "mse     30.066462\n",
              "mae      3.748294\n",
              "dtype: float64"
            ]
          },
          "metadata": {
            "tags": []
          },
          "execution_count": 63
        }
      ]
    },
    {
      "cell_type": "code",
      "metadata": {
        "colab": {
          "base_uri": "https://localhost:8080/"
        },
        "id": "V_fBszUUKT6_",
        "outputId": "d73daa55-9bca-4589-a052-fec9d83542ea"
      },
      "source": [
        "result.loc[(result['metrics']== 'mean_squared_error') & (result['loss'] == 'mse')].mean()"
      ],
      "execution_count": 64,
      "outputs": [
        {
          "output_type": "execute_result",
          "data": {
            "text/plain": [
              "n        7.500000\n",
              "r2       0.630756\n",
              "rmse     5.416844\n",
              "mse     29.965421\n",
              "mae      3.946987\n",
              "dtype: float64"
            ]
          },
          "metadata": {
            "tags": []
          },
          "execution_count": 64
        }
      ]
    },
    {
      "cell_type": "code",
      "metadata": {
        "colab": {
          "base_uri": "https://localhost:8080/"
        },
        "id": "eYrmJxv-KUDb",
        "outputId": "71c78274-d435-430b-d16a-4df9ec26f4cc"
      },
      "source": [
        "result.loc[(result['metrics']== 'mean_squared_error') & (result['loss'] == 'mae')].mean()"
      ],
      "execution_count": 65,
      "outputs": [
        {
          "output_type": "execute_result",
          "data": {
            "text/plain": [
              "n        7.500000\n",
              "r2       0.624960\n",
              "rmse     5.502696\n",
              "mse     30.435840\n",
              "mae      3.669066\n",
              "dtype: float64"
            ]
          },
          "metadata": {
            "tags": []
          },
          "execution_count": 65
        }
      ]
    },
    {
      "cell_type": "markdown",
      "metadata": {
        "id": "7jTSievBK-hC"
      },
      "source": [
        "Модель лучше всего показала себя при выборе в качестве  метрики mae и функции потерь mse. Увеличение эпох до 200 значительно улучшило результат."
      ]
    }
  ]
}
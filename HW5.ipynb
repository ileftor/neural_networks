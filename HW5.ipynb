{
  "nbformat": 4,
  "nbformat_minor": 0,
  "metadata": {
    "colab": {
      "name": "HW5.ipynb",
      "provenance": [],
      "collapsed_sections": []
    },
    "kernelspec": {
      "name": "python3",
      "display_name": "Python 3"
    },
    "language_info": {
      "name": "python"
    },
    "accelerator": "GPU"
  },
  "cells": [
    {
      "cell_type": "markdown",
      "metadata": {
        "id": "wuweX95uv6p-"
      },
      "source": [
        "# **Домашнее задание 5**"
      ]
    },
    {
      "cell_type": "markdown",
      "metadata": {
        "id": "LKyi9YU-v74f"
      },
      "source": [
        "Попробуйте обучить нейронную сеть LSTM на любом другом датасете (любимый временной ряд, текст на русском (другом языке) как генератор или классификатор, или прилагаемый набор airline-passengers - пасажиропоток для авиалиний). Опишите, какой результата вы получили? Что помогло вам улучшить ее точность?"
      ]
    },
    {
      "cell_type": "code",
      "metadata": {
        "id": "sQCaYV2WxMMK"
      },
      "source": [
        "import numpy as np\n",
        "import pandas as pd\n",
        "\n",
        "import matplotlib.pyplot as plt\n",
        "\n",
        "from tensorflow.keras.models import Sequential\n",
        "from tensorflow.keras.layers import Dense, LSTM\n",
        "from sklearn.preprocessing import MinMaxScaler"
      ],
      "execution_count": 6,
      "outputs": []
    },
    {
      "cell_type": "code",
      "metadata": {
        "colab": {
          "base_uri": "https://localhost:8080/"
        },
        "id": "rzFswYFOwEo5",
        "outputId": "bcc10f40-a999-4699-8b25-d486e3c31172"
      },
      "source": [
        "from google.colab import drive\n",
        "drive.mount('/content/drive')"
      ],
      "execution_count": 1,
      "outputs": [
        {
          "output_type": "stream",
          "text": [
            "Mounted at /content/drive\n"
          ],
          "name": "stdout"
        }
      ]
    },
    {
      "cell_type": "code",
      "metadata": {
        "colab": {
          "base_uri": "https://localhost:8080/",
          "height": 206
        },
        "id": "Ym5u0MnPwEwi",
        "outputId": "91effcf1-ca12-41f1-94d1-90db9e4d5517"
      },
      "source": [
        "passengers_data = pd.read_csv(\"/content/drive/My Drive/Нейронные сети/airline-passengers.csv\")\n",
        "passengers_data.head()"
      ],
      "execution_count": 57,
      "outputs": [
        {
          "output_type": "execute_result",
          "data": {
            "text/html": [
              "<div>\n",
              "<style scoped>\n",
              "    .dataframe tbody tr th:only-of-type {\n",
              "        vertical-align: middle;\n",
              "    }\n",
              "\n",
              "    .dataframe tbody tr th {\n",
              "        vertical-align: top;\n",
              "    }\n",
              "\n",
              "    .dataframe thead th {\n",
              "        text-align: right;\n",
              "    }\n",
              "</style>\n",
              "<table border=\"1\" class=\"dataframe\">\n",
              "  <thead>\n",
              "    <tr style=\"text-align: right;\">\n",
              "      <th></th>\n",
              "      <th>Month</th>\n",
              "      <th>Passengers</th>\n",
              "    </tr>\n",
              "  </thead>\n",
              "  <tbody>\n",
              "    <tr>\n",
              "      <th>0</th>\n",
              "      <td>1949-01</td>\n",
              "      <td>112</td>\n",
              "    </tr>\n",
              "    <tr>\n",
              "      <th>1</th>\n",
              "      <td>1949-02</td>\n",
              "      <td>118</td>\n",
              "    </tr>\n",
              "    <tr>\n",
              "      <th>2</th>\n",
              "      <td>1949-03</td>\n",
              "      <td>132</td>\n",
              "    </tr>\n",
              "    <tr>\n",
              "      <th>3</th>\n",
              "      <td>1949-04</td>\n",
              "      <td>129</td>\n",
              "    </tr>\n",
              "    <tr>\n",
              "      <th>4</th>\n",
              "      <td>1949-05</td>\n",
              "      <td>121</td>\n",
              "    </tr>\n",
              "  </tbody>\n",
              "</table>\n",
              "</div>"
            ],
            "text/plain": [
              "     Month  Passengers\n",
              "0  1949-01         112\n",
              "1  1949-02         118\n",
              "2  1949-03         132\n",
              "3  1949-04         129\n",
              "4  1949-05         121"
            ]
          },
          "metadata": {
            "tags": []
          },
          "execution_count": 57
        }
      ]
    },
    {
      "cell_type": "code",
      "metadata": {
        "id": "mQ8SmiYhwEzk",
        "colab": {
          "base_uri": "https://localhost:8080/",
          "height": 283
        },
        "outputId": "8d5b8ba9-51e3-4bc4-e76e-d8bcf6da86a4"
      },
      "source": [
        "plt.plot(passengers_data['Passengers'])"
      ],
      "execution_count": 58,
      "outputs": [
        {
          "output_type": "execute_result",
          "data": {
            "text/plain": [
              "[<matplotlib.lines.Line2D at 0x7f8d363bfe10>]"
            ]
          },
          "metadata": {
            "tags": []
          },
          "execution_count": 58
        },
        {
          "output_type": "display_data",
          "data": {
            "image/png": "[encoded data removed]",
            "text/plain": [
              "<Figure size 432x288 with 1 Axes>"
            ]
          },
          "metadata": {
            "tags": [],
            "needs_background": "light"
          }
        }
      ]
    },
    {
      "cell_type": "code",
      "metadata": {
        "colab": {
          "base_uri": "https://localhost:8080/"
        },
        "id": "hYbswpywDaag",
        "outputId": "1a42c305-ee0b-4436-c4b2-bc477be4cb6f"
      },
      "source": [
        "dataset = passengers_data['Passengers']\n",
        "dataset = np.array(dataset).reshape(-1,1)\n",
        "dataset[:10]"
      ],
      "execution_count": 59,
      "outputs": [
        {
          "output_type": "execute_result",
          "data": {
            "text/plain": [
              "array([[112],\n",
              "       [118],\n",
              "       [132],\n",
              "       [129],\n",
              "       [121],\n",
              "       [135],\n",
              "       [148],\n",
              "       [148],\n",
              "       [136],\n",
              "       [119]])"
            ]
          },
          "metadata": {
            "tags": []
          },
          "execution_count": 59
        }
      ]
    },
    {
      "cell_type": "code",
      "metadata": {
        "id": "hFPMZybGwE2c",
        "colab": {
          "base_uri": "https://localhost:8080/"
        },
        "outputId": "46b19822-ccda-4da5-a8c8-f15b3e393d73"
      },
      "source": [
        "scaler = MinMaxScaler()\n",
        "dataset = scaler.fit_transform(dataset)\n",
        "dataset.min(),dataset.max()"
      ],
      "execution_count": 60,
      "outputs": [
        {
          "output_type": "execute_result",
          "data": {
            "text/plain": [
              "(0.0, 1.0)"
            ]
          },
          "metadata": {
            "tags": []
          },
          "execution_count": 60
        }
      ]
    },
    {
      "cell_type": "code",
      "metadata": {
        "colab": {
          "base_uri": "https://localhost:8080/"
        },
        "id": "9UzJ8vY5DktW",
        "outputId": "f477e862-840e-43ed-a7e0-42b97126e278"
      },
      "source": [
        "train_size = 100\n",
        "test_size = 44\n",
        "train = dataset[0:train_size, :]\n",
        "train.shape"
      ],
      "execution_count": 61,
      "outputs": [
        {
          "output_type": "execute_result",
          "data": {
            "text/plain": [
              "(100, 1)"
            ]
          },
          "metadata": {
            "tags": []
          },
          "execution_count": 61
        }
      ]
    },
    {
      "cell_type": "code",
      "metadata": {
        "colab": {
          "base_uri": "https://localhost:8080/"
        },
        "id": "QpVZB5cYDkwX",
        "outputId": "9720f163-69e5-4d75-c87e-2ebc9aa6e99c"
      },
      "source": [
        "test = dataset[train_size:144, :]\n",
        "test.shape"
      ],
      "execution_count": 62,
      "outputs": [
        {
          "output_type": "execute_result",
          "data": {
            "text/plain": [
              "(44, 1)"
            ]
          },
          "metadata": {
            "tags": []
          },
          "execution_count": 62
        }
      ]
    },
    {
      "cell_type": "code",
      "metadata": {
        "id": "eHk6WqogDkzF"
      },
      "source": [
        "def get_data(dataset, look_back):\n",
        "    dataX, dataY = [], []\n",
        "    for i in range(len(dataset)-look_back-1):\n",
        "        a = dataset[i:(i+look_back), 0]\n",
        "        dataX.append(a)\n",
        "        dataY.append(dataset[i+look_back, 0])\n",
        "    return np.array(dataX), np.array(dataY)"
      ],
      "execution_count": 63,
      "outputs": []
    },
    {
      "cell_type": "code",
      "metadata": {
        "id": "hb6mUhwMDk14"
      },
      "source": [
        "X_test, y_test = get_data(test, look_back)"
      ],
      "execution_count": 64,
      "outputs": []
    },
    {
      "cell_type": "code",
      "metadata": {
        "id": "A5oAcBARwE5C"
      },
      "source": [
        "X_train = X_train.reshape(X_train.shape[0], X_train.shape[1], 1)\n",
        "X_test = X_test.reshape(X_test.shape[0], X_test.shape[1], 1)"
      ],
      "execution_count": 65,
      "outputs": []
    },
    {
      "cell_type": "code",
      "metadata": {
        "id": "wKPcFfr9wE7w",
        "colab": {
          "base_uri": "https://localhost:8080/"
        },
        "outputId": "c9f2b0d5-09b5-4c54-e4a0-4e93fcae1cd7"
      },
      "source": [
        "X_train.shape"
      ],
      "execution_count": 66,
      "outputs": [
        {
          "output_type": "execute_result",
          "data": {
            "text/plain": [
              "(98, 1, 1)"
            ]
          },
          "metadata": {
            "tags": []
          },
          "execution_count": 66
        }
      ]
    },
    {
      "cell_type": "code",
      "metadata": {
        "id": "mXB0ADQwwE-D"
      },
      "source": [
        "model = Sequential()\n",
        "model.add(LSTM(5, input_shape = (1, look_back)))\n",
        "model.add(Dense(1))\n",
        "model.compile(loss=\"mse\", optimizer=\"adam\", metrics=['mae'])"
      ],
      "execution_count": 67,
      "outputs": []
    },
    {
      "cell_type": "code",
      "metadata": {
        "colab": {
          "base_uri": "https://localhost:8080/"
        },
        "id": "uLFqly0nEHl_",
        "outputId": "4f398adc-50fd-4a19-ccfc-2d5031badcee"
      },
      "source": [
        "model.summary()"
      ],
      "execution_count": 68,
      "outputs": [
        {
          "output_type": "stream",
          "text": [
            "Model: \"sequential_5\"\n",
            "_________________________________________________________________\n",
            "Layer (type)                 Output Shape              Param #   \n",
            "=================================================================\n",
            "lstm_5 (LSTM)                (None, 5)                 140       \n",
            "_________________________________________________________________\n",
            "dense_5 (Dense)              (None, 1)                 6         \n",
            "=================================================================\n",
            "Total params: 146\n",
            "Trainable params: 146\n",
            "Non-trainable params: 0\n",
            "_________________________________________________________________\n"
          ],
          "name": "stdout"
        }
      ]
    },
    {
      "cell_type": "code",
      "metadata": {
        "colab": {
          "base_uri": "https://localhost:8080/"
        },
        "id": "KltWESsdEHoo",
        "outputId": "d72a5202-df06-422d-f6d6-7dfb88dce98b"
      },
      "source": [
        "model.fit(X_train, y_train, epochs=25, batch_size=1)"
      ],
      "execution_count": 71,
      "outputs": [
        {
          "output_type": "stream",
          "text": [
            "Epoch 1/25\n",
            "98/98 [==============================] - 0s 4ms/step - loss: 0.0022 - mae: 0.0370\n",
            "Epoch 2/25\n",
            "98/98 [==============================] - 0s 4ms/step - loss: 0.0022 - mae: 0.0369\n",
            "Epoch 3/25\n",
            "98/98 [==============================] - 0s 4ms/step - loss: 0.0022 - mae: 0.0366\n",
            "Epoch 4/25\n",
            "98/98 [==============================] - 0s 4ms/step - loss: 0.0022 - mae: 0.0365\n",
            "Epoch 5/25\n",
            "98/98 [==============================] - 0s 3ms/step - loss: 0.0022 - mae: 0.0371\n",
            "Epoch 6/25\n",
            "98/98 [==============================] - 0s 4ms/step - loss: 0.0021 - mae: 0.0378\n",
            "Epoch 7/25\n",
            "98/98 [==============================] - 0s 4ms/step - loss: 0.0023 - mae: 0.0383\n",
            "Epoch 8/25\n",
            "98/98 [==============================] - 0s 3ms/step - loss: 0.0021 - mae: 0.0361\n",
            "Epoch 9/25\n",
            "98/98 [==============================] - 0s 4ms/step - loss: 0.0022 - mae: 0.0368\n",
            "Epoch 10/25\n",
            "98/98 [==============================] - 0s 3ms/step - loss: 0.0022 - mae: 0.0370\n",
            "Epoch 11/25\n",
            "98/98 [==============================] - 0s 3ms/step - loss: 0.0021 - mae: 0.0366\n",
            "Epoch 12/25\n",
            "98/98 [==============================] - 0s 3ms/step - loss: 0.0021 - mae: 0.0369\n",
            "Epoch 13/25\n",
            "98/98 [==============================] - 0s 3ms/step - loss: 0.0022 - mae: 0.0367\n",
            "Epoch 14/25\n",
            "98/98 [==============================] - 0s 3ms/step - loss: 0.0021 - mae: 0.0366\n",
            "Epoch 15/25\n",
            "98/98 [==============================] - 0s 3ms/step - loss: 0.0022 - mae: 0.0370\n",
            "Epoch 16/25\n",
            "98/98 [==============================] - 0s 4ms/step - loss: 0.0022 - mae: 0.0370\n",
            "Epoch 17/25\n",
            "98/98 [==============================] - 0s 3ms/step - loss: 0.0023 - mae: 0.0388\n",
            "Epoch 18/25\n",
            "98/98 [==============================] - 0s 3ms/step - loss: 0.0023 - mae: 0.0376\n",
            "Epoch 19/25\n",
            "98/98 [==============================] - 0s 3ms/step - loss: 0.0022 - mae: 0.0375\n",
            "Epoch 20/25\n",
            "98/98 [==============================] - 0s 4ms/step - loss: 0.0022 - mae: 0.0370\n",
            "Epoch 21/25\n",
            "98/98 [==============================] - 0s 3ms/step - loss: 0.0021 - mae: 0.0365\n",
            "Epoch 22/25\n",
            "98/98 [==============================] - 0s 3ms/step - loss: 0.0021 - mae: 0.0361\n",
            "Epoch 23/25\n",
            "98/98 [==============================] - 0s 3ms/step - loss: 0.0022 - mae: 0.0371\n",
            "Epoch 24/25\n",
            "98/98 [==============================] - 0s 4ms/step - loss: 0.0022 - mae: 0.0371\n",
            "Epoch 25/25\n",
            "98/98 [==============================] - 0s 4ms/step - loss: 0.0021 - mae: 0.0360\n"
          ],
          "name": "stdout"
        },
        {
          "output_type": "execute_result",
          "data": {
            "text/plain": [
              "<tensorflow.python.keras.callbacks.History at 0x7f8d357510d0>"
            ]
          },
          "metadata": {
            "tags": []
          },
          "execution_count": 71
        }
      ]
    },
    {
      "cell_type": "code",
      "metadata": {
        "id": "jy2ljRfEEHrX"
      },
      "source": [
        "y_pred = model.predict(X_test)"
      ],
      "execution_count": 73,
      "outputs": []
    },
    {
      "cell_type": "code",
      "metadata": {
        "id": "HQO22tA_wFAt"
      },
      "source": [
        "y_pred = scaler.inverse_transform(y_pred)\n",
        "y_test = np.array(y_test)\n",
        "y_test = y_test.reshape(-1, 1)\n",
        "y_test = scaler.inverse_transform(y_test)"
      ],
      "execution_count": 74,
      "outputs": []
    },
    {
      "cell_type": "code",
      "metadata": {
        "colab": {
          "base_uri": "https://localhost:8080/",
          "height": 320
        },
        "id": "3bSH2te2EpsC",
        "outputId": "19065930-fd75-468c-d1b1-f8d5877c1c4e"
      },
      "source": [
        "plt.figure(figsize=(14,5))\n",
        "plt.plot(y_test, label = 'Real')\n",
        "plt.plot(y_pred, label = 'Predicted')\n",
        "plt.ylabel('passengers')\n",
        "plt.legend()\n",
        "plt.show()"
      ],
      "execution_count": 75,
      "outputs": [
        {
          "output_type": "display_data",
          "data": {
            "image/png": "[encoded data removed]",
            "text/plain": [
              "<Figure size 1008x360 with 1 Axes>"
            ]
          },
          "metadata": {
            "tags": [],
            "needs_background": "light"
          }
        }
      ]
    },
    {
      "cell_type": "markdown",
      "metadata": {
        "id": "1u7hNH9qIazd"
      },
      "source": [
        "Результат достаточно неплохой если судить по сначению метрики и потерь. На графике мы наблюдаем сдвиг, то есть предсказания запаздывают. Улучшить результат получилось за счет увеличения количества эпох и сокращения количества слоёв до двух."
      ]
    }
  ]
}
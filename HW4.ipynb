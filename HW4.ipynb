{
  "nbformat": 4,
  "nbformat_minor": 0,
  "metadata": {
    "colab": {
      "name": "HW4.ipynb",
      "provenance": [],
      "collapsed_sections": []
    },
    "kernelspec": {
      "name": "python3",
      "display_name": "Python 3"
    },
    "language_info": {
      "name": "python"
    },
    "accelerator": "GPU"
  },
  "cells": [
    {
      "cell_type": "markdown",
      "metadata": {
        "id": "n3zfc7oVGaU0"
      },
      "source": [
        "# **Домашнее задание 4**"
      ]
    },
    {
      "cell_type": "markdown",
      "metadata": {
        "id": "wgdvGcXKGTpV"
      },
      "source": [
        "\n",
        "Вариант 1. (простой)\n",
        "\n",
        "- обучить сверточную нейронную сеть в стиле AlexNet (с падением размера ядра свертки и последовательностью блоков свертка-пулинг  (conv-pool)-(conv-pool)-...) на датасете fashion-mnist"
      ]
    },
    {
      "cell_type": "code",
      "metadata": {
        "id": "BdI3U0hhGXvU"
      },
      "source": [
        "import pandas as pd\n",
        "\n",
        "from tensorflow.keras.models import Sequential\n",
        "from tensorflow.keras import models, layers\n",
        "import tensorflow.keras as keras\n",
        "from keras.layers import Dense\n",
        "from keras.utils import to_categorical\n",
        "\n",
        "from tensorflow.keras.utils import to_categorical\n",
        "from keras.datasets import fashion_mnist"
      ],
      "execution_count": 37,
      "outputs": []
    },
    {
      "cell_type": "code",
      "metadata": {
        "colab": {
          "base_uri": "https://localhost:8080/"
        },
        "id": "foLrEi7TG3Lp",
        "outputId": "da6d3560-e766-40c8-a84c-fd37d658d9e1"
      },
      "source": [
        "(x_train, y_train), (x_test, y_test)=fashion_mnist.load_data()"
      ],
      "execution_count": 4,
      "outputs": [
        {
          "output_type": "stream",
          "text": [
            "Downloading data from https://storage.googleapis.com/tensorflow/tf-keras-datasets/train-labels-idx1-ubyte.gz\n",
            "32768/29515 [=================================] - 0s 0us/step\n",
            "Downloading data from https://storage.googleapis.com/tensorflow/tf-keras-datasets/train-images-idx3-ubyte.gz\n",
            "26427392/26421880 [==============================] - 0s 0us/step\n",
            "Downloading data from https://storage.googleapis.com/tensorflow/tf-keras-datasets/t10k-labels-idx1-ubyte.gz\n",
            "8192/5148 [===============================================] - 0s 0us/step\n",
            "Downloading data from https://storage.googleapis.com/tensorflow/tf-keras-datasets/t10k-images-idx3-ubyte.gz\n",
            "4423680/4422102 [==============================] - 0s 0us/step\n"
          ],
          "name": "stdout"
        }
      ]
    },
    {
      "cell_type": "code",
      "metadata": {
        "id": "7y9H-7j4G3Oc"
      },
      "source": [
        "x_train = x_train.astype('float32')\n",
        "x_test = x_test.astype('float32')\n",
        "\n",
        "x_train /= 255 \n",
        "x_test /= 255 \n",
        "\n",
        "y_train = to_categorical(y_train, 10) \n",
        "y_test = to_categorical(y_test, 10) \n",
        "\n",
        "x_train = x_train.reshape(x_train.shape[0], 28,28,1)\n",
        "x_test = x_test.reshape(x_test.shape[0], 28,28,1)"
      ],
      "execution_count": 5,
      "outputs": []
    },
    {
      "cell_type": "markdown",
      "metadata": {
        "id": "MycQB0jmGTsI"
      },
      "source": [
        "- оценить рост точности при увеличении ширины сети (больше ядер)\n"
      ]
    },
    {
      "cell_type": "code",
      "metadata": {
        "id": "lmATeMz1FgkU"
      },
      "source": [
        "results = []"
      ],
      "execution_count": 6,
      "outputs": []
    },
    {
      "cell_type": "code",
      "metadata": {
        "colab": {
          "base_uri": "https://localhost:8080/"
        },
        "id": "-8_U4QxYG3RT",
        "outputId": "0b7f60df-c8e8-4b0b-8882-ecb6342a71e8"
      },
      "source": [
        "#по 10 прогонов с каждым из трёх вариантов размера ядер ( 20 - 10 - 5, 10 - 5 - 3, 5 - 3 - 2) \n",
        "# с каждым из двух вариантов кол-ва нейронов для сверточного слоя (6 - 16 - 120, 12-32-120)\n",
        "\n",
        "for i in range (11):\n",
        "  result = {}\n",
        "\n",
        "  # инициализация пустой модели\n",
        "  model = Sequential()\n",
        "\n",
        "  # первый сверточный слой\n",
        "  model.add(layers.Conv2D(12, kernel_size=(5, 5), strides=(1, 1), activation='relu', input_shape=(28,28,1), padding=\"same\"))\n",
        "\n",
        "  # второй пуллинговый слой\n",
        "  model.add(layers.MaxPooling2D(pool_size=(2, 2), strides=(1, 1), padding='valid'))\n",
        "\n",
        "  # третий сверточный слой\n",
        "  model.add(layers.Conv2D(32, kernel_size=(3, 3), strides=(1, 1), activation='relu', padding='valid'))\n",
        "\n",
        "  # четвертый пуллинговый слой\n",
        "  model.add(layers.MaxPooling2D(pool_size=(2, 2), strides=(2, 2), padding='valid'))\n",
        "\n",
        "  # пятый сверточный слой\n",
        "  model.add(layers.Conv2D(120, kernel_size=(2, 2), strides=(1, 1), activation='relu', padding='valid'))\n",
        "\n",
        "  # сглаживание CNN выхода чтобы можно было его присоединить к полносвязногому слою\n",
        "  model.add(layers.Flatten())\n",
        "\n",
        "  # шестой полносвязный слой\n",
        "  model.add(layers.Dense(84, activation='relu'))\n",
        "\n",
        "  # выходной слой с функцией активации softmax\n",
        "  model.add(layers.Dense(10, activation='softmax'))\n",
        "\n",
        "\n",
        "  # компилияция модели\n",
        "  model.compile(loss=keras.losses.categorical_crossentropy, optimizer='SGD', metrics=[\"accuracy\"])\n",
        "\n",
        "\n",
        "  hh = model.fit(x=x_train,y=y_train, epochs=2, batch_size=128, validation_data=(x_test, y_test), verbose=1)\n",
        "\n",
        "  result['neurons'] = '12, 32, 120'\n",
        "  result['kernels'] = '5, 3, 2'\n",
        "  result['Conv_layer'] = 3\n",
        "  result['MaxPooling_layer'] = 2\n",
        "  result['accuracy_tr']= hh.history['accuracy'][-1]\n",
        "  result['accuracy_val']= hh.history['val_accuracy'][-1]\n",
        "\n",
        "  results.append(result)"
      ],
      "execution_count": 9,
      "outputs": [
        {
          "output_type": "stream",
          "text": [
            "Epoch 1/2\n",
            "469/469 [==============================] - 4s 7ms/step - loss: 1.5031 - accuracy: 0.4808 - val_loss: 0.7895 - val_accuracy: 0.6960\n",
            "Epoch 2/2\n",
            "469/469 [==============================] - 3s 6ms/step - loss: 0.6688 - accuracy: 0.7491 - val_loss: 0.5819 - val_accuracy: 0.7847\n",
            "Epoch 1/2\n",
            "469/469 [==============================] - 3s 6ms/step - loss: 1.5088 - accuracy: 0.4912 - val_loss: 0.7503 - val_accuracy: 0.7293\n",
            "Epoch 2/2\n",
            "469/469 [==============================] - 3s 6ms/step - loss: 0.6981 - accuracy: 0.7422 - val_loss: 0.6060 - val_accuracy: 0.7814\n",
            "Epoch 1/2\n",
            "469/469 [==============================] - 3s 6ms/step - loss: 1.4789 - accuracy: 0.5056 - val_loss: 0.7538 - val_accuracy: 0.7193\n",
            "Epoch 2/2\n",
            "469/469 [==============================] - 3s 6ms/step - loss: 0.6711 - accuracy: 0.7508 - val_loss: 0.5678 - val_accuracy: 0.7860\n",
            "Epoch 1/2\n",
            "469/469 [==============================] - 3s 6ms/step - loss: 1.4191 - accuracy: 0.4942 - val_loss: 0.6676 - val_accuracy: 0.7594\n",
            "Epoch 2/2\n",
            "469/469 [==============================] - 3s 6ms/step - loss: 0.6500 - accuracy: 0.7594 - val_loss: 0.6581 - val_accuracy: 0.7562\n",
            "Epoch 1/2\n",
            "469/469 [==============================] - 3s 6ms/step - loss: 1.3532 - accuracy: 0.5497 - val_loss: 0.9082 - val_accuracy: 0.7089\n",
            "Epoch 2/2\n",
            "469/469 [==============================] - 3s 6ms/step - loss: 0.6824 - accuracy: 0.7497 - val_loss: 0.5963 - val_accuracy: 0.7798\n",
            "Epoch 1/2\n",
            "469/469 [==============================] - 3s 6ms/step - loss: 1.5005 - accuracy: 0.5252 - val_loss: 0.7826 - val_accuracy: 0.7092\n",
            "Epoch 2/2\n",
            "469/469 [==============================] - 3s 6ms/step - loss: 0.6819 - accuracy: 0.7446 - val_loss: 0.6239 - val_accuracy: 0.7751\n",
            "Epoch 1/2\n",
            "469/469 [==============================] - 3s 6ms/step - loss: 1.4402 - accuracy: 0.5226 - val_loss: 0.8003 - val_accuracy: 0.6789\n",
            "Epoch 2/2\n",
            "469/469 [==============================] - 3s 6ms/step - loss: 0.6616 - accuracy: 0.7530 - val_loss: 0.6010 - val_accuracy: 0.7803\n",
            "Epoch 1/2\n",
            "469/469 [==============================] - 3s 6ms/step - loss: 1.4914 - accuracy: 0.5004 - val_loss: 0.6945 - val_accuracy: 0.7450\n",
            "Epoch 2/2\n",
            "469/469 [==============================] - 3s 6ms/step - loss: 0.6360 - accuracy: 0.7639 - val_loss: 0.5515 - val_accuracy: 0.7944\n",
            "Epoch 1/2\n",
            "469/469 [==============================] - 3s 6ms/step - loss: 1.4356 - accuracy: 0.5276 - val_loss: 0.6990 - val_accuracy: 0.7298\n",
            "Epoch 2/2\n",
            "469/469 [==============================] - 3s 6ms/step - loss: 0.6890 - accuracy: 0.7424 - val_loss: 0.6588 - val_accuracy: 0.7451\n",
            "Epoch 1/2\n",
            "469/469 [==============================] - 3s 6ms/step - loss: 1.5336 - accuracy: 0.4648 - val_loss: 0.7673 - val_accuracy: 0.7225\n",
            "Epoch 2/2\n",
            "469/469 [==============================] - 3s 6ms/step - loss: 0.7258 - accuracy: 0.7276 - val_loss: 0.6677 - val_accuracy: 0.7372\n",
            "Epoch 1/2\n",
            "469/469 [==============================] - 3s 6ms/step - loss: 1.5181 - accuracy: 0.5069 - val_loss: 0.6880 - val_accuracy: 0.7398\n",
            "Epoch 2/2\n",
            "469/469 [==============================] - 3s 6ms/step - loss: 0.6553 - accuracy: 0.7555 - val_loss: 0.5982 - val_accuracy: 0.7576\n"
          ],
          "name": "stdout"
        }
      ]
    },
    {
      "cell_type": "code",
      "metadata": {
        "colab": {
          "base_uri": "https://localhost:8080/"
        },
        "id": "waHVWypoR4g5",
        "outputId": "818bf1dc-8f53-4f1e-8342-e02f2931e47e"
      },
      "source": [
        "for i in range (11):\n",
        "  result = {}\n",
        "\n",
        "  # инициализация пустой модели\n",
        "  model = Sequential()\n",
        "\n",
        "  # первый сверточный слой\n",
        "  model.add(layers.Conv2D(12, kernel_size=(10, 10), strides=(1, 1), activation='relu', input_shape=(28,28,1), padding=\"same\"))\n",
        "\n",
        "  # второй пуллинговый слой\n",
        "  model.add(layers.MaxPooling2D(pool_size=(2, 2), strides=(1, 1), padding='valid'))\n",
        "\n",
        "  # третий сверточный слой\n",
        "  model.add(layers.Conv2D(32, kernel_size=(5, 5), strides=(1, 1), activation='relu', padding='valid'))\n",
        "\n",
        "  # четвертый пуллинговый слой\n",
        "  model.add(layers.MaxPooling2D(pool_size=(2, 2), strides=(2, 2), padding='valid'))\n",
        "\n",
        "  # пятый сверточный слой\n",
        "  model.add(layers.Conv2D(120, kernel_size=(3, 3), strides=(1, 1), activation='relu', padding='valid'))\n",
        "\n",
        "  # сглаживание CNN выхода чтобы можно было его присоединить к полносвязногому слою\n",
        "  model.add(layers.Flatten())\n",
        "\n",
        "  # шестой полносвязный слой\n",
        "  model.add(layers.Dense(84, activation='relu'))\n",
        "\n",
        "  # выходной слой с функцией активации softmax\n",
        "  model.add(layers.Dense(10, activation='softmax'))\n",
        "\n",
        "\n",
        "  # компилияция модели\n",
        "  model.compile(loss=keras.losses.categorical_crossentropy, optimizer='SGD', metrics=[\"accuracy\"])\n",
        "\n",
        "\n",
        "  hh = model.fit(x=x_train,y=y_train, epochs=2, batch_size=128, validation_data=(x_test, y_test), verbose=1)\n",
        "\n",
        "  result['neurons'] = '12, 32, 120'\n",
        "  result['kernels'] = '10, 5, 3'\n",
        "  result['Conv_layer'] = 3\n",
        "  result['MaxPooling_layer'] = 2\n",
        "  result['accuracy_tr']= hh.history['accuracy'][-1]\n",
        "  result['accuracy_val']= hh.history['val_accuracy'][-1]\n",
        "\n",
        "  results.append(result)"
      ],
      "execution_count": 13,
      "outputs": [
        {
          "output_type": "stream",
          "text": [
            "Epoch 1/2\n",
            "469/469 [==============================] - 4s 7ms/step - loss: 1.5767 - accuracy: 0.4846 - val_loss: 0.6636 - val_accuracy: 0.7547\n",
            "Epoch 2/2\n",
            "469/469 [==============================] - 3s 6ms/step - loss: 0.6340 - accuracy: 0.7624 - val_loss: 0.5732 - val_accuracy: 0.7898\n",
            "Epoch 1/2\n",
            "469/469 [==============================] - 4s 7ms/step - loss: 1.5514 - accuracy: 0.4602 - val_loss: 0.7191 - val_accuracy: 0.7426\n",
            "Epoch 2/2\n",
            "469/469 [==============================] - 3s 6ms/step - loss: 0.6606 - accuracy: 0.7567 - val_loss: 0.6112 - val_accuracy: 0.7570\n",
            "Epoch 1/2\n",
            "469/469 [==============================] - 3s 7ms/step - loss: 1.5097 - accuracy: 0.4619 - val_loss: 0.6874 - val_accuracy: 0.7536\n",
            "Epoch 2/2\n",
            "469/469 [==============================] - 3s 6ms/step - loss: 0.6512 - accuracy: 0.7616 - val_loss: 0.5844 - val_accuracy: 0.7864\n",
            "Epoch 1/2\n",
            "469/469 [==============================] - 3s 6ms/step - loss: 1.5823 - accuracy: 0.4619 - val_loss: 0.7598 - val_accuracy: 0.7258\n",
            "Epoch 2/2\n",
            "469/469 [==============================] - 3s 6ms/step - loss: 0.6587 - accuracy: 0.7551 - val_loss: 0.6033 - val_accuracy: 0.7857\n",
            "Epoch 1/2\n",
            "469/469 [==============================] - 4s 7ms/step - loss: 1.4512 - accuracy: 0.4837 - val_loss: 0.7176 - val_accuracy: 0.7473\n",
            "Epoch 2/2\n",
            "469/469 [==============================] - 3s 6ms/step - loss: 0.6644 - accuracy: 0.7552 - val_loss: 0.5775 - val_accuracy: 0.7804\n",
            "Epoch 1/2\n",
            "469/469 [==============================] - 3s 7ms/step - loss: 1.4850 - accuracy: 0.4992 - val_loss: 0.6961 - val_accuracy: 0.7386\n",
            "Epoch 2/2\n",
            "469/469 [==============================] - 3s 6ms/step - loss: 0.6639 - accuracy: 0.7525 - val_loss: 0.5858 - val_accuracy: 0.7822\n",
            "Epoch 1/2\n",
            "469/469 [==============================] - 4s 7ms/step - loss: 1.5034 - accuracy: 0.4601 - val_loss: 0.7064 - val_accuracy: 0.7383\n",
            "Epoch 2/2\n",
            "469/469 [==============================] - 3s 6ms/step - loss: 0.6563 - accuracy: 0.7553 - val_loss: 0.6311 - val_accuracy: 0.7537\n",
            "Epoch 1/2\n",
            "469/469 [==============================] - 3s 6ms/step - loss: 1.5158 - accuracy: 0.4528 - val_loss: 0.6954 - val_accuracy: 0.7294\n",
            "Epoch 2/2\n",
            "469/469 [==============================] - 3s 6ms/step - loss: 0.6405 - accuracy: 0.7610 - val_loss: 0.6041 - val_accuracy: 0.7741\n",
            "Epoch 1/2\n",
            "469/469 [==============================] - 4s 7ms/step - loss: 1.4913 - accuracy: 0.4806 - val_loss: 0.7102 - val_accuracy: 0.7397\n",
            "Epoch 2/2\n",
            "469/469 [==============================] - 3s 6ms/step - loss: 0.6549 - accuracy: 0.7616 - val_loss: 0.5823 - val_accuracy: 0.7877\n",
            "Epoch 1/2\n",
            "469/469 [==============================] - 4s 7ms/step - loss: 1.5523 - accuracy: 0.4648 - val_loss: 0.7362 - val_accuracy: 0.7250\n",
            "Epoch 2/2\n",
            "469/469 [==============================] - 3s 6ms/step - loss: 0.6771 - accuracy: 0.7511 - val_loss: 0.6175 - val_accuracy: 0.7785\n",
            "Epoch 1/2\n",
            "469/469 [==============================] - 4s 7ms/step - loss: 1.4217 - accuracy: 0.4994 - val_loss: 0.7382 - val_accuracy: 0.7350\n",
            "Epoch 2/2\n",
            "469/469 [==============================] - 3s 6ms/step - loss: 0.7008 - accuracy: 0.7415 - val_loss: 0.6229 - val_accuracy: 0.7671\n"
          ],
          "name": "stdout"
        }
      ]
    },
    {
      "cell_type": "code",
      "metadata": {
        "colab": {
          "base_uri": "https://localhost:8080/"
        },
        "id": "twl6WV40SGm_",
        "outputId": "a75eb0f1-d1b3-452f-832b-bd5a03529fe7"
      },
      "source": [
        "for i in range (11):\n",
        "  result = {}\n",
        "\n",
        "  # инициализация пустой модели\n",
        "  model = Sequential()\n",
        "\n",
        "  # первый сверточный слой\n",
        "  model.add(layers.Conv2D(12, kernel_size=(20, 20), strides=(1, 1), activation='relu', input_shape=(28,28,1), padding=\"same\"))\n",
        "\n",
        "  # второй пуллинговый слой\n",
        "  model.add(layers.MaxPooling2D(pool_size=(2, 2), strides=(1, 1), padding='valid'))\n",
        "\n",
        "  # третий сверточный слой\n",
        "  model.add(layers.Conv2D(32, kernel_size=(10, 10), strides=(1, 1), activation='relu', padding='valid'))\n",
        "\n",
        "  # четвертый пуллинговый слой\n",
        "  model.add(layers.MaxPooling2D(pool_size=(2, 2), strides=(2, 2), padding='valid'))\n",
        "\n",
        "  # пятый сверточный слой\n",
        "  model.add(layers.Conv2D(120, kernel_size=(5, 5), strides=(1, 1), activation='relu', padding='valid'))\n",
        "\n",
        "  # сглаживание CNN выхода чтобы можно было его присоединить к полносвязногому слою\n",
        "  model.add(layers.Flatten())\n",
        "\n",
        "  # шестой полносвязный слой\n",
        "  model.add(layers.Dense(84, activation='relu'))\n",
        "\n",
        "  # выходной слой с функцией активации softmax\n",
        "  model.add(layers.Dense(10, activation='softmax'))\n",
        "\n",
        "\n",
        "  # компилияция модели\n",
        "  model.compile(loss=keras.losses.categorical_crossentropy, optimizer='SGD', metrics=[\"accuracy\"])\n",
        "\n",
        "\n",
        "  hh = model.fit(x=x_train,y=y_train, epochs=2, batch_size=128, validation_data=(x_test, y_test), verbose=1)\n",
        "\n",
        "  result['neurons'] = '12, 32, 120'\n",
        "  result['kernels'] = '20, 10, 5'\n",
        "  result['Conv_layer'] = 3\n",
        "  result['MaxPooling_layer'] = 2\n",
        "  result['accuracy_tr']= hh.history['accuracy'][-1]\n",
        "  result['accuracy_val']= hh.history['val_accuracy'][-1]\n",
        "\n",
        "  results.append(result)"
      ],
      "execution_count": 14,
      "outputs": [
        {
          "output_type": "stream",
          "text": [
            "Epoch 1/2\n",
            "469/469 [==============================] - 4s 7ms/step - loss: 1.3627 - accuracy: 0.5159 - val_loss: 0.7247 - val_accuracy: 0.7285\n",
            "Epoch 2/2\n",
            "469/469 [==============================] - 3s 7ms/step - loss: 0.6112 - accuracy: 0.7755 - val_loss: 0.5463 - val_accuracy: 0.7980\n",
            "Epoch 1/2\n",
            "469/469 [==============================] - 4s 7ms/step - loss: 1.4385 - accuracy: 0.4669 - val_loss: 0.7218 - val_accuracy: 0.7251\n",
            "Epoch 2/2\n",
            "469/469 [==============================] - 3s 7ms/step - loss: 0.6290 - accuracy: 0.7641 - val_loss: 0.6099 - val_accuracy: 0.7687\n",
            "Epoch 1/2\n",
            "469/469 [==============================] - 4s 8ms/step - loss: 1.5065 - accuracy: 0.4513 - val_loss: 0.7238 - val_accuracy: 0.7254\n",
            "Epoch 2/2\n",
            "469/469 [==============================] - 3s 7ms/step - loss: 0.6321 - accuracy: 0.7611 - val_loss: 0.5479 - val_accuracy: 0.7989\n",
            "Epoch 1/2\n",
            "469/469 [==============================] - 4s 7ms/step - loss: 1.4674 - accuracy: 0.4855 - val_loss: 0.7161 - val_accuracy: 0.7158\n",
            "Epoch 2/2\n",
            "469/469 [==============================] - 3s 7ms/step - loss: 0.6408 - accuracy: 0.7642 - val_loss: 0.5845 - val_accuracy: 0.7829\n",
            "Epoch 1/2\n",
            "469/469 [==============================] - 4s 7ms/step - loss: 1.4451 - accuracy: 0.4821 - val_loss: 0.7369 - val_accuracy: 0.7333\n",
            "Epoch 2/2\n",
            "469/469 [==============================] - 3s 7ms/step - loss: 0.6266 - accuracy: 0.7700 - val_loss: 0.5991 - val_accuracy: 0.7771\n",
            "Epoch 1/2\n",
            "469/469 [==============================] - 4s 7ms/step - loss: 1.4857 - accuracy: 0.4855 - val_loss: 0.6580 - val_accuracy: 0.7476\n",
            "Epoch 2/2\n",
            "469/469 [==============================] - 3s 7ms/step - loss: 0.6120 - accuracy: 0.7721 - val_loss: 0.5466 - val_accuracy: 0.8012\n",
            "Epoch 1/2\n",
            "469/469 [==============================] - 4s 7ms/step - loss: 1.4297 - accuracy: 0.4717 - val_loss: 0.7042 - val_accuracy: 0.7411\n",
            "Epoch 2/2\n",
            "469/469 [==============================] - 3s 7ms/step - loss: 0.6403 - accuracy: 0.7599 - val_loss: 0.5798 - val_accuracy: 0.7919\n",
            "Epoch 1/2\n",
            "469/469 [==============================] - 4s 7ms/step - loss: 1.4746 - accuracy: 0.4567 - val_loss: 0.6949 - val_accuracy: 0.7463\n",
            "Epoch 2/2\n",
            "469/469 [==============================] - 3s 7ms/step - loss: 0.6431 - accuracy: 0.7673 - val_loss: 0.5742 - val_accuracy: 0.7922\n",
            "Epoch 1/2\n",
            "469/469 [==============================] - 4s 7ms/step - loss: 1.4353 - accuracy: 0.4917 - val_loss: 0.6916 - val_accuracy: 0.7425\n",
            "Epoch 2/2\n",
            "469/469 [==============================] - 3s 7ms/step - loss: 0.6338 - accuracy: 0.7664 - val_loss: 0.6013 - val_accuracy: 0.7798\n",
            "Epoch 1/2\n",
            "469/469 [==============================] - 4s 7ms/step - loss: 1.4366 - accuracy: 0.4841 - val_loss: 0.7647 - val_accuracy: 0.7154\n",
            "Epoch 2/2\n",
            "469/469 [==============================] - 3s 7ms/step - loss: 0.6356 - accuracy: 0.7664 - val_loss: 0.5417 - val_accuracy: 0.8007\n",
            "Epoch 1/2\n",
            "469/469 [==============================] - 4s 7ms/step - loss: 1.4772 - accuracy: 0.4673 - val_loss: 0.6994 - val_accuracy: 0.7337\n",
            "Epoch 2/2\n",
            "469/469 [==============================] - 3s 7ms/step - loss: 0.6462 - accuracy: 0.7632 - val_loss: 0.5972 - val_accuracy: 0.7774\n"
          ],
          "name": "stdout"
        }
      ]
    },
    {
      "cell_type": "markdown",
      "metadata": {
        "id": "vAK_bO0tGTvB"
      },
      "source": [
        "- оценить рост точности при увеличении глубины сети (больше слоев)\n"
      ]
    },
    {
      "cell_type": "code",
      "metadata": {
        "colab": {
          "base_uri": "https://localhost:8080/"
        },
        "id": "RikJ0ovWcod4",
        "outputId": "f08c8751-ec68-4801-a10d-2e001392f48b"
      },
      "source": [
        "#2с 1п, 4с 3п, 5с 4п\n",
        "for i in range (11):\n",
        "  result = {}\n",
        "\n",
        "  model = Sequential()\n",
        "\n",
        "  model.add(layers.Conv2D(6, kernel_size=(6, 6), strides=(1, 1), activation='relu', padding=\"same\"))\n",
        "\n",
        "  model.add(layers.Conv2D(12, kernel_size=(5, 5), strides=(1, 1), activation='relu', input_shape=(28,28,1), padding='valid'))\n",
        "\n",
        "  model.add(layers.MaxPooling2D(pool_size=(2, 2), strides=(1, 1), padding='valid'))\n",
        "\n",
        "  model.add(layers.Conv2D(32, kernel_size=(4, 4), strides=(1, 1), activation='relu', padding='valid'))\n",
        "\n",
        "  model.add(layers.MaxPooling2D(pool_size=(2, 2), strides=(2, 2), padding='valid'))\n",
        "\n",
        "  model.add(layers.Conv2D(80, kernel_size=(3, 3), strides=(1, 1), activation='relu', padding='valid'))\n",
        "\n",
        "  model.add(layers.MaxPooling2D(pool_size=(2, 2), strides=(2, 2), padding='valid'))\n",
        "\n",
        "  model.add(layers.Conv2D(80, kernel_size=(2, 2), strides=(1, 1), activation='relu', padding='valid'))\n",
        "\n",
        "  \n",
        "  # сглаживание CNN выхода чтобы можно было его присоединить к полносвязногому слою\n",
        "  model.add(layers.Flatten())\n",
        "\n",
        "  # шестой полносвязный слой\n",
        "  model.add(layers.Dense(84, activation='relu'))\n",
        "\n",
        "  # выходной слой с функцией активации softmax\n",
        "  model.add(layers.Dense(10, activation='softmax'))\n",
        "\n",
        "  # компилияция модели\n",
        "  model.compile(loss=keras.losses.categorical_crossentropy, optimizer='SGD', metrics=[\"accuracy\"])\n",
        "\n",
        "\n",
        "  hh = model.fit(x=x_train,y=y_train, epochs=2, batch_size=128, validation_data=(x_test, y_test), verbose=1)\n",
        "\n",
        "  result['neurons'] = '6, 12, 32, 80, 80'\n",
        "  result['kernels'] = '6, 5, 4, 3, 2'\n",
        "  result['Conv_layer'] = 5\n",
        "  result['MaxPooling_layer'] = 3\n",
        "  result['accuracy_tr']= hh.history['accuracy'][-1]\n",
        "  result['accuracy_val']= hh.history['val_accuracy'][-1]\n",
        "\n",
        "  results.append(result)"
      ],
      "execution_count": 28,
      "outputs": [
        {
          "output_type": "stream",
          "text": [
            "Epoch 1/2\n",
            "469/469 [==============================] - 4s 7ms/step - loss: 1.8984 - accuracy: 0.3054 - val_loss: 0.7589 - val_accuracy: 0.7190\n",
            "Epoch 2/2\n",
            "469/469 [==============================] - 3s 6ms/step - loss: 0.7179 - accuracy: 0.7335 - val_loss: 0.6590 - val_accuracy: 0.7428\n",
            "Epoch 1/2\n",
            "469/469 [==============================] - 4s 7ms/step - loss: 1.9192 - accuracy: 0.3040 - val_loss: 0.7517 - val_accuracy: 0.7218\n",
            "Epoch 2/2\n",
            "469/469 [==============================] - 3s 6ms/step - loss: 0.7180 - accuracy: 0.7330 - val_loss: 0.6546 - val_accuracy: 0.7647\n",
            "Epoch 1/2\n",
            "469/469 [==============================] - 4s 7ms/step - loss: 1.9100 - accuracy: 0.3566 - val_loss: 0.9106 - val_accuracy: 0.6557\n",
            "Epoch 2/2\n",
            "469/469 [==============================] - 3s 7ms/step - loss: 0.7473 - accuracy: 0.7245 - val_loss: 0.6539 - val_accuracy: 0.7618\n",
            "Epoch 1/2\n",
            "469/469 [==============================] - 4s 7ms/step - loss: 1.9801 - accuracy: 0.2571 - val_loss: 0.8448 - val_accuracy: 0.6950\n",
            "Epoch 2/2\n",
            "469/469 [==============================] - 3s 7ms/step - loss: 0.7957 - accuracy: 0.7001 - val_loss: 0.7480 - val_accuracy: 0.7270\n",
            "Epoch 1/2\n",
            "469/469 [==============================] - 4s 7ms/step - loss: 1.9672 - accuracy: 0.2906 - val_loss: 0.8642 - val_accuracy: 0.6384\n",
            "Epoch 2/2\n",
            "469/469 [==============================] - 3s 7ms/step - loss: 0.7352 - accuracy: 0.7265 - val_loss: 0.6900 - val_accuracy: 0.7327\n",
            "Epoch 1/2\n",
            "469/469 [==============================] - 4s 8ms/step - loss: 1.9783 - accuracy: 0.3469 - val_loss: 0.7271 - val_accuracy: 0.7324\n",
            "Epoch 2/2\n",
            "469/469 [==============================] - 3s 6ms/step - loss: 0.6864 - accuracy: 0.7400 - val_loss: 0.6313 - val_accuracy: 0.7635\n",
            "Epoch 1/2\n",
            "469/469 [==============================] - 4s 7ms/step - loss: 2.0483 - accuracy: 0.2680 - val_loss: 1.1051 - val_accuracy: 0.6008\n",
            "Epoch 2/2\n",
            "469/469 [==============================] - 3s 7ms/step - loss: 0.7806 - accuracy: 0.7129 - val_loss: 0.6744 - val_accuracy: 0.7498\n",
            "Epoch 1/2\n",
            "469/469 [==============================] - 4s 7ms/step - loss: 2.0279 - accuracy: 0.3172 - val_loss: 0.7841 - val_accuracy: 0.7072\n",
            "Epoch 2/2\n",
            "469/469 [==============================] - 3s 7ms/step - loss: 0.7392 - accuracy: 0.7250 - val_loss: 0.7296 - val_accuracy: 0.7139\n",
            "Epoch 1/2\n",
            "469/469 [==============================] - 4s 7ms/step - loss: 2.0807 - accuracy: 0.2508 - val_loss: 0.9509 - val_accuracy: 0.6571\n",
            "Epoch 2/2\n",
            "469/469 [==============================] - 3s 7ms/step - loss: 0.7983 - accuracy: 0.6939 - val_loss: 0.6889 - val_accuracy: 0.7454\n",
            "Epoch 1/2\n",
            "469/469 [==============================] - 4s 7ms/step - loss: 1.9271 - accuracy: 0.3244 - val_loss: 0.8471 - val_accuracy: 0.6722\n",
            "Epoch 2/2\n",
            "469/469 [==============================] - 3s 7ms/step - loss: 0.7850 - accuracy: 0.7022 - val_loss: 0.7475 - val_accuracy: 0.7062\n",
            "Epoch 1/2\n",
            "469/469 [==============================] - 4s 7ms/step - loss: 1.9562 - accuracy: 0.2863 - val_loss: 0.7999 - val_accuracy: 0.6977\n",
            "Epoch 2/2\n",
            "469/469 [==============================] - 3s 7ms/step - loss: 0.7621 - accuracy: 0.7141 - val_loss: 0.7151 - val_accuracy: 0.7386\n"
          ],
          "name": "stdout"
        }
      ]
    },
    {
      "cell_type": "markdown",
      "metadata": {
        "id": "QqipmmivGTxu"
      },
      "source": [
        "- сравнить с точностью полносвязной сети для этой выборки\n",
        "    </li>"
      ]
    },
    {
      "cell_type": "code",
      "metadata": {
        "id": "xlItCBaIQD-E"
      },
      "source": [
        "(train_imagesi,train_labels),(test_imagesi,test_labels)=fashion_mnist.load_data()"
      ],
      "execution_count": 35,
      "outputs": []
    },
    {
      "cell_type": "code",
      "metadata": {
        "id": "M0WqwjCzQEBL"
      },
      "source": [
        "# Normalize the images.\n",
        "train_images = (train_imagesi / 127) - 1\n",
        "test_images = (test_imagesi / 127) - 1\n",
        "\n",
        "# Flatten the images.\n",
        "train_images = train_images.reshape((-1, 784))\n",
        "test_images = test_images.reshape((-1, 784))"
      ],
      "execution_count": 36,
      "outputs": []
    },
    {
      "cell_type": "code",
      "metadata": {
        "colab": {
          "base_uri": "https://localhost:8080/"
        },
        "id": "gEijlm1GM4l6",
        "outputId": "538552ac-ef72-499d-9d6d-2090b07ca2c6"
      },
      "source": [
        "for i in range (11):\n",
        "  result = {}\n",
        "\n",
        "  model = Sequential()\n",
        "\n",
        "  model.add(layers.Dense(90, activation='relu', input_shape=(784,)))\n",
        "\n",
        "  model.add(layers.Dense(90, activation='relu'))\n",
        "\n",
        "  # выходной слой с функцией активации softmax\n",
        "  model.add(layers.Dense(10, activation='softmax'))\n",
        "\n",
        "  # компилияция модели\n",
        "  model.compile(loss=keras.losses.categorical_crossentropy, optimizer='Nadam', metrics=[\"accuracy\"])\n",
        "\n",
        "\n",
        "  hh = model.fit(x=train_images,y=to_categorical(train_labels), epochs=2, batch_size=128, validation_data=(test_images, to_categorical(test_labels)), verbose=1)\n",
        "\n",
        "  result['neurons'] = ''\n",
        "  result['kernels'] = ''\n",
        "  result['Conv_layer'] = 0\n",
        "  result['MaxPooling_layer'] = 0\n",
        "  result['accuracy_tr']= hh.history['accuracy'][-1]\n",
        "  result['accuracy_val']= hh.history['val_accuracy'][-1]\n",
        "\n",
        "  results.append(result)"
      ],
      "execution_count": 38,
      "outputs": [
        {
          "output_type": "stream",
          "text": [
            "Epoch 1/2\n",
            "469/469 [==============================] - 3s 5ms/step - loss: 0.7039 - accuracy: 0.7534 - val_loss: 0.4185 - val_accuracy: 0.8515\n",
            "Epoch 2/2\n",
            "469/469 [==============================] - 2s 4ms/step - loss: 0.3779 - accuracy: 0.8615 - val_loss: 0.3871 - val_accuracy: 0.8598\n",
            "Epoch 1/2\n",
            "469/469 [==============================] - 3s 5ms/step - loss: 0.7273 - accuracy: 0.7476 - val_loss: 0.4611 - val_accuracy: 0.8314\n",
            "Epoch 2/2\n",
            "469/469 [==============================] - 2s 4ms/step - loss: 0.3835 - accuracy: 0.8600 - val_loss: 0.3991 - val_accuracy: 0.8533\n",
            "Epoch 1/2\n",
            "469/469 [==============================] - 3s 5ms/step - loss: 0.7091 - accuracy: 0.7506 - val_loss: 0.4700 - val_accuracy: 0.8264\n",
            "Epoch 2/2\n",
            "469/469 [==============================] - 2s 4ms/step - loss: 0.3826 - accuracy: 0.8594 - val_loss: 0.3819 - val_accuracy: 0.8584\n",
            "Epoch 1/2\n",
            "469/469 [==============================] - 3s 5ms/step - loss: 0.7183 - accuracy: 0.7483 - val_loss: 0.4238 - val_accuracy: 0.8449\n",
            "Epoch 2/2\n",
            "469/469 [==============================] - 2s 4ms/step - loss: 0.3760 - accuracy: 0.8638 - val_loss: 0.4327 - val_accuracy: 0.8435\n",
            "Epoch 1/2\n",
            "469/469 [==============================] - 3s 5ms/step - loss: 0.7093 - accuracy: 0.7502 - val_loss: 0.4349 - val_accuracy: 0.8413\n",
            "Epoch 2/2\n",
            "469/469 [==============================] - 2s 4ms/step - loss: 0.3835 - accuracy: 0.8614 - val_loss: 0.3820 - val_accuracy: 0.8645\n",
            "Epoch 1/2\n",
            "469/469 [==============================] - 3s 5ms/step - loss: 0.7327 - accuracy: 0.7413 - val_loss: 0.4360 - val_accuracy: 0.8390\n",
            "Epoch 2/2\n",
            "469/469 [==============================] - 2s 4ms/step - loss: 0.3728 - accuracy: 0.8625 - val_loss: 0.3826 - val_accuracy: 0.8613\n",
            "Epoch 1/2\n",
            "469/469 [==============================] - 3s 5ms/step - loss: 0.6936 - accuracy: 0.7559 - val_loss: 0.4203 - val_accuracy: 0.8462\n",
            "Epoch 2/2\n",
            "469/469 [==============================] - 2s 4ms/step - loss: 0.3798 - accuracy: 0.8630 - val_loss: 0.3880 - val_accuracy: 0.8621\n",
            "Epoch 1/2\n",
            "469/469 [==============================] - 3s 5ms/step - loss: 0.7179 - accuracy: 0.7485 - val_loss: 0.4315 - val_accuracy: 0.8442\n",
            "Epoch 2/2\n",
            "469/469 [==============================] - 2s 4ms/step - loss: 0.3834 - accuracy: 0.8595 - val_loss: 0.3828 - val_accuracy: 0.8597\n",
            "Epoch 1/2\n",
            "469/469 [==============================] - 3s 5ms/step - loss: 0.7095 - accuracy: 0.7478 - val_loss: 0.4561 - val_accuracy: 0.8371\n",
            "Epoch 2/2\n",
            "469/469 [==============================] - 2s 4ms/step - loss: 0.3873 - accuracy: 0.8577 - val_loss: 0.3923 - val_accuracy: 0.8608\n",
            "Epoch 1/2\n",
            "469/469 [==============================] - 3s 5ms/step - loss: 0.7042 - accuracy: 0.7556 - val_loss: 0.4649 - val_accuracy: 0.8229\n",
            "Epoch 2/2\n",
            "469/469 [==============================] - 2s 4ms/step - loss: 0.3810 - accuracy: 0.8609 - val_loss: 0.4333 - val_accuracy: 0.8445\n",
            "Epoch 1/2\n",
            "469/469 [==============================] - 3s 5ms/step - loss: 0.7057 - accuracy: 0.7543 - val_loss: 0.4251 - val_accuracy: 0.8434\n",
            "Epoch 2/2\n",
            "469/469 [==============================] - 2s 4ms/step - loss: 0.3806 - accuracy: 0.8611 - val_loss: 0.4032 - val_accuracy: 0.8531\n"
          ],
          "name": "stdout"
        }
      ]
    },
    {
      "cell_type": "code",
      "metadata": {
        "id": "xVweATLAUKGS"
      },
      "source": [
        "result1 = pd.DataFrame(results)"
      ],
      "execution_count": 39,
      "outputs": []
    },
    {
      "cell_type": "code",
      "metadata": {
        "colab": {
          "base_uri": "https://localhost:8080/",
          "height": 426
        },
        "id": "aA5mCjL3hPkR",
        "outputId": "6a02473f-ae29-4488-afc1-99d94a8f55b3"
      },
      "source": [
        "result1.groupby(['neurons', 'kernels','Conv_layer', 'MaxPooling_layer']).mean(['accuracy_val', 'accuracy_tr']).sort_values(by='accuracy_val', ascending=False)"
      ],
      "execution_count": 41,
      "outputs": [
        {
          "output_type": "execute_result",
          "data": {
            "text/html": [
              "<div>\n",
              "<style scoped>\n",
              "    .dataframe tbody tr th:only-of-type {\n",
              "        vertical-align: middle;\n",
              "    }\n",
              "\n",
              "    .dataframe tbody tr th {\n",
              "        vertical-align: top;\n",
              "    }\n",
              "\n",
              "    .dataframe thead th {\n",
              "        text-align: right;\n",
              "    }\n",
              "</style>\n",
              "<table border=\"1\" class=\"dataframe\">\n",
              "  <thead>\n",
              "    <tr style=\"text-align: right;\">\n",
              "      <th></th>\n",
              "      <th></th>\n",
              "      <th></th>\n",
              "      <th></th>\n",
              "      <th>accuracy_tr</th>\n",
              "      <th>accuracy_val</th>\n",
              "    </tr>\n",
              "    <tr>\n",
              "      <th>neurons</th>\n",
              "      <th>kernels</th>\n",
              "      <th>Conv_layer</th>\n",
              "      <th>MaxPooling_layer</th>\n",
              "      <th></th>\n",
              "      <th></th>\n",
              "    </tr>\n",
              "  </thead>\n",
              "  <tbody>\n",
              "    <tr>\n",
              "      <th></th>\n",
              "      <th></th>\n",
              "      <th>0</th>\n",
              "      <th>0</th>\n",
              "      <td>0.864158</td>\n",
              "      <td>0.856455</td>\n",
              "    </tr>\n",
              "    <tr>\n",
              "      <th>6, 120</th>\n",
              "      <th>3, 2</th>\n",
              "      <th>2</th>\n",
              "      <th>1</th>\n",
              "      <td>0.807467</td>\n",
              "      <td>0.805145</td>\n",
              "    </tr>\n",
              "    <tr>\n",
              "      <th>12, 32, 120</th>\n",
              "      <th>20, 10, 5</th>\n",
              "      <th>3</th>\n",
              "      <th>2</th>\n",
              "      <td>0.777926</td>\n",
              "      <td>0.788073</td>\n",
              "    </tr>\n",
              "    <tr>\n",
              "      <th>6, 16, 120</th>\n",
              "      <th>20, 10, 5</th>\n",
              "      <th>3</th>\n",
              "      <th>2</th>\n",
              "      <td>0.772874</td>\n",
              "      <td>0.783509</td>\n",
              "    </tr>\n",
              "    <tr>\n",
              "      <th>12, 32, 120</th>\n",
              "      <th>10, 5, 3</th>\n",
              "      <th>3</th>\n",
              "      <th>2</th>\n",
              "      <td>0.767502</td>\n",
              "      <td>0.776600</td>\n",
              "    </tr>\n",
              "    <tr>\n",
              "      <th>1, 1, 1</th>\n",
              "      <th>20, 10, 5</th>\n",
              "      <th>3</th>\n",
              "      <th>2</th>\n",
              "      <td>0.769500</td>\n",
              "      <td>0.775586</td>\n",
              "    </tr>\n",
              "    <tr>\n",
              "      <th rowspan=\"2\" valign=\"top\">6, 16, 120</th>\n",
              "      <th>5, 3, 2</th>\n",
              "      <th>3</th>\n",
              "      <th>2</th>\n",
              "      <td>0.766512</td>\n",
              "      <td>0.774809</td>\n",
              "    </tr>\n",
              "    <tr>\n",
              "      <th>10, 5, 3</th>\n",
              "      <th>3</th>\n",
              "      <th>2</th>\n",
              "      <td>0.764305</td>\n",
              "      <td>0.774373</td>\n",
              "    </tr>\n",
              "    <tr>\n",
              "      <th>12, 32, 120</th>\n",
              "      <th>5, 3, 2</th>\n",
              "      <th>3</th>\n",
              "      <th>2</th>\n",
              "      <td>0.761853</td>\n",
              "      <td>0.770709</td>\n",
              "    </tr>\n",
              "    <tr>\n",
              "      <th>6, 12, 32, 80, 80</th>\n",
              "      <th>6, 5, 4, 3, 2</th>\n",
              "      <th>5</th>\n",
              "      <th>3</th>\n",
              "      <td>0.716683</td>\n",
              "      <td>0.732491</td>\n",
              "    </tr>\n",
              "    <tr>\n",
              "      <th>12, 32, 80, 80</th>\n",
              "      <th>5, 4, 3, 2</th>\n",
              "      <th>4</th>\n",
              "      <th>3</th>\n",
              "      <td>0.732473</td>\n",
              "      <td>0.726655</td>\n",
              "    </tr>\n",
              "  </tbody>\n",
              "</table>\n",
              "</div>"
            ],
            "text/plain": [
              "                                                             accuracy_tr  accuracy_val\n",
              "neurons           kernels       Conv_layer MaxPooling_layer                           \n",
              "                                0          0                    0.864158      0.856455\n",
              "6, 120            3, 2          2          1                    0.807467      0.805145\n",
              "12, 32, 120       20, 10, 5     3          2                    0.777926      0.788073\n",
              "6, 16, 120        20, 10, 5     3          2                    0.772874      0.783509\n",
              "12, 32, 120       10, 5, 3      3          2                    0.767502      0.776600\n",
              "1, 1, 1           20, 10, 5     3          2                    0.769500      0.775586\n",
              "6, 16, 120        5, 3, 2       3          2                    0.766512      0.774809\n",
              "                  10, 5, 3      3          2                    0.764305      0.774373\n",
              "12, 32, 120       5, 3, 2       3          2                    0.761853      0.770709\n",
              "6, 12, 32, 80, 80 6, 5, 4, 3, 2 5          3                    0.716683      0.732491\n",
              "12, 32, 80, 80    5, 4, 3, 2    4          3                    0.732473      0.726655"
            ]
          },
          "metadata": {
            "tags": []
          },
          "execution_count": 41
        }
      ]
    },
    {
      "cell_type": "markdown",
      "metadata": {
        "id": "IkDCTI4nRpZY"
      },
      "source": [
        "Лучше всех показала себя модель с тремя полносвязными слоями. Чем меньше количество сверточных и пуллинг слоев тем результат лучше. Это наблюдается в случае с 6, 120 нейронов для сверточных слоев с размером ядер (3,3), (2,2) и всего одним пуллинг слоем.  Сочетание ядер для сверточных слоев (20,20) (10,10) (5,5) показало средний результат независимо от кол-ва нейронов в сверточном слое. Хуже всего показала себя модель с 4 сверточными  3 пуллинг слоями, а модель с 5 сверточными слоями и 3 пуллинг слоями на трейне показала результат значительно выше чем на тесте."
      ]
    }
  ]
}
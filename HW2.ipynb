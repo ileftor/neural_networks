{
  "nbformat": 4,
  "nbformat_minor": 0,
  "metadata": {
    "colab": {
      "name": "HW2.ipynb",
      "provenance": [],
      "collapsed_sections": []
    },
    "kernelspec": {
      "name": "python3",
      "display_name": "Python 3"
    },
    "language_info": {
      "name": "python"
    },
    "accelerator": "GPU"
  },
  "cells": [
    {
      "cell_type": "markdown",
      "metadata": {
        "id": "l2kxqh-SGFIq"
      },
      "source": [
        "# **Домашнее задание 2**"
      ]
    },
    {
      "cell_type": "markdown",
      "metadata": {
        "id": "pHlmtl-ZGLur"
      },
      "source": [
        "## Практическое задание\n",
        "\n",
        "Используем набор примеров fashion-MNIST\n",
        "\n",
        "1.  Опишите - какой результата получен в нейросети в зависимости от:\n",
        "  -  числа нейронов в слое(для 2-хслойной сети), \n",
        "  - числа слоев (2, 3, 5, 10) при близких размерах сети (близкое число тренируемых парметров).\n",
        "  - фиксируйте для тренировочного и тестового набора метрики accuracy.\n",
        "2.  Проверьте работу разных оптимизаторов (SGD, Adam, RMSProp) для одной из моделей п.1.Фиксируйте для тренировочного и тестового набора метрики accuracy.\n",
        "\n",
        "3. Сделайте вывод - что помогло вам улучшить качество классификации в нейросети на тестовом наборе? \n",
        "\n",
        "4. Для одного варианта сетей сформируйте матрицу ошибок по классам. Оцените качество модели по каждому классу отдельно (полнота , точность)"
      ]
    },
    {
      "cell_type": "code",
      "metadata": {
        "id": "2b0DRcVqHMcg"
      },
      "source": [
        "import numpy as np\n",
        "import pandas as pd\n",
        "\n",
        "import keras\n",
        "from keras.models import Sequential\n",
        "from keras.layers import Dense\n",
        "from keras.utils import to_categorical\n",
        "from keras.datasets import fashion_mnist\n",
        "\n",
        "import matplotlib.pyplot as plt"
      ],
      "execution_count": 109,
      "outputs": []
    },
    {
      "cell_type": "code",
      "metadata": {
        "id": "YDcjCTVmHWDH"
      },
      "source": [
        "(train_imagesi,train_labels),(test_imagesi,test_labels)=fashion_mnist.load_data()"
      ],
      "execution_count": 8,
      "outputs": []
    },
    {
      "cell_type": "code",
      "metadata": {
        "id": "ietlBMgKHWQ6"
      },
      "source": [
        "# Normalize the images.\n",
        "train_images = (train_imagesi / 127) - 1\n",
        "test_images = (test_imagesi / 127) - 1\n",
        "\n",
        "# Flatten the images.\n",
        "train_images = train_images.reshape((-1, 784))\n",
        "test_images = test_images.reshape((-1, 784))"
      ],
      "execution_count": 12,
      "outputs": []
    },
    {
      "cell_type": "code",
      "metadata": {
        "colab": {
          "base_uri": "https://localhost:8080/"
        },
        "id": "dWVtRvMPHWKN",
        "outputId": "726fdede-bc15-4028-f8d7-43ae743f634f"
      },
      "source": [
        "train_images.shape"
      ],
      "execution_count": 14,
      "outputs": [
        {
          "output_type": "execute_result",
          "data": {
            "text/plain": [
              "(60000, 784)"
            ]
          },
          "metadata": {
            "tags": []
          },
          "execution_count": 14
        }
      ]
    },
    {
      "cell_type": "code",
      "metadata": {
        "colab": {
          "base_uri": "https://localhost:8080/",
          "height": 265
        },
        "id": "nVVsQkUJJB25",
        "outputId": "e032a4c1-4564-4030-d154-4ab53b333635"
      },
      "source": [
        "plt.imshow(train_imagesi[20,:,:])\n",
        "plt.show()"
      ],
      "execution_count": 13,
      "outputs": [
        {
          "output_type": "display_data",
          "data": {
            "image/png": "[encoded data removed]",
            "text/plain": [
              "<Figure size 432x288 with 1 Axes>"
            ]
          },
          "metadata": {
            "tags": [],
            "needs_background": "light"
          }
        }
      ]
    },
    {
      "cell_type": "code",
      "metadata": {
        "id": "E_QtginHK8af"
      },
      "source": [
        "model = Sequential(name='my_model')\n",
        "model.add(Dense(128, activation='relu', input_shape=(784,)))\n",
        "\n",
        "model.add(Dense(10, activation='softmax'))"
      ],
      "execution_count": 23,
      "outputs": []
    },
    {
      "cell_type": "code",
      "metadata": {
        "id": "Y3-0fxYaK8dK"
      },
      "source": [
        "model.compile(\n",
        "  optimizer='adam',\n",
        "  loss='categorical_crossentropy',\n",
        "  metrics=['accuracy'],\n",
        ")"
      ],
      "execution_count": 24,
      "outputs": []
    },
    {
      "cell_type": "code",
      "metadata": {
        "colab": {
          "base_uri": "https://localhost:8080/"
        },
        "id": "bDy4rOpCK8ft",
        "outputId": "adbdcce6-dbcf-4545-acd7-7c610a7bff07"
      },
      "source": [
        "model.summary()"
      ],
      "execution_count": 25,
      "outputs": [
        {
          "output_type": "stream",
          "text": [
            "Model: \"my_model\"\n",
            "_________________________________________________________________\n",
            "Layer (type)                 Output Shape              Param #   \n",
            "=================================================================\n",
            "dense_2 (Dense)              (None, 128)               100480    \n",
            "_________________________________________________________________\n",
            "dense_3 (Dense)              (None, 10)                1290      \n",
            "=================================================================\n",
            "Total params: 101,770\n",
            "Trainable params: 101,770\n",
            "Non-trainable params: 0\n",
            "_________________________________________________________________\n"
          ],
          "name": "stdout"
        }
      ]
    },
    {
      "cell_type": "code",
      "metadata": {
        "colab": {
          "base_uri": "https://localhost:8080/"
        },
        "id": "vnrMPTZaK8ie",
        "outputId": "7b4f0405-fefe-40bf-c913-8728729e6d5b"
      },
      "source": [
        "y_t = to_categorical(train_labels)\n",
        "y_tt = to_categorical(test_labels)\n",
        "y_t[:3,:]"
      ],
      "execution_count": 26,
      "outputs": [
        {
          "output_type": "execute_result",
          "data": {
            "text/plain": [
              "array([[0., 0., 0., 0., 0., 0., 0., 0., 0., 1.],\n",
              "       [1., 0., 0., 0., 0., 0., 0., 0., 0., 0.],\n",
              "       [1., 0., 0., 0., 0., 0., 0., 0., 0., 0.]], dtype=float32)"
            ]
          },
          "metadata": {
            "tags": []
          },
          "execution_count": 26
        }
      ]
    },
    {
      "cell_type": "code",
      "metadata": {
        "colab": {
          "base_uri": "https://localhost:8080/"
        },
        "id": "ABYh6xtMK8k4",
        "outputId": "5535a1d0-72c7-474a-b3bd-91eedb9cc59b"
      },
      "source": [
        "# Train the model.\n",
        "model.fit(  \n",
        "  train_images,\n",
        "  y_t,\n",
        "  epochs=5,\n",
        "  batch_size=32, validation_split=0.2\n",
        ")\n",
        "\n",
        "# Evaluate the model.\n",
        "model.evaluate( \n",
        "  test_images,\n",
        "  y_tt\n",
        ")\n",
        "\n",
        "# Predict on the first 5 test images.\n",
        "predictions = model.predict(test_images[:5])\n",
        "\n",
        "# Print our model's predictions.\n",
        "print(np.argmax(predictions, axis=1)) \n",
        "\n",
        "# Check our predictions against the ground truths.\n",
        "print(test_labels[:5]) "
      ],
      "execution_count": 27,
      "outputs": [
        {
          "output_type": "stream",
          "text": [
            "Epoch 1/5\n",
            "1500/1500 [==============================] - 5s 3ms/step - loss: 0.6139 - accuracy: 0.7811 - val_loss: 0.4025 - val_accuracy: 0.8494\n",
            "Epoch 2/5\n",
            "1500/1500 [==============================] - 4s 3ms/step - loss: 0.3924 - accuracy: 0.8559 - val_loss: 0.3765 - val_accuracy: 0.8610\n",
            "Epoch 3/5\n",
            "1500/1500 [==============================] - 4s 3ms/step - loss: 0.3511 - accuracy: 0.8702 - val_loss: 0.3926 - val_accuracy: 0.8548\n",
            "Epoch 4/5\n",
            "1500/1500 [==============================] - 4s 3ms/step - loss: 0.3248 - accuracy: 0.8788 - val_loss: 0.3610 - val_accuracy: 0.8649\n",
            "Epoch 5/5\n",
            "1500/1500 [==============================] - 4s 3ms/step - loss: 0.3014 - accuracy: 0.8892 - val_loss: 0.3590 - val_accuracy: 0.8658\n",
            "313/313 [==============================] - 1s 3ms/step - loss: 0.3829 - accuracy: 0.8612\n",
            "[9 2 1 1 6]\n",
            "[9 2 1 1 6]\n"
          ],
          "name": "stdout"
        }
      ]
    },
    {
      "cell_type": "markdown",
      "metadata": {
        "id": "_IG3XWXwhQeE"
      },
      "source": [
        "**числа нейронов в слое(для 2-хслойной сети)**"
      ]
    },
    {
      "cell_type": "code",
      "metadata": {
        "id": "7qQlqslpSZnp"
      },
      "source": [
        "results_neurons =  {\n",
        "    'neurons': [],\n",
        "    'accuracy_tr': [],\n",
        "    'accuracy_val': []\n",
        "    }"
      ],
      "execution_count": 59,
      "outputs": []
    },
    {
      "cell_type": "code",
      "metadata": {
        "colab": {
          "base_uri": "https://localhost:8080/"
        },
        "id": "CjThRQS9K8ps",
        "outputId": "a55e08ad-1fc7-4916-da37-b03d4a89943f"
      },
      "source": [
        "#Делаем три прогона, чтобы посмотреть на разброс значений\n",
        "n = [2, 10, 50, 100, 150, 300, 700]\n",
        "\n",
        "for i in n:\n",
        "\n",
        "  model = Sequential(name='my_model')\n",
        "  model.add(Dense(i, activation='relu', input_shape=(784,)))\n",
        "  model.add(Dense(10, activation='softmax'))\n",
        "\n",
        "  model.compile(\n",
        "  optimizer='adam',\n",
        "  loss='categorical_crossentropy',\n",
        "  metrics=['accuracy'],\n",
        "  )\n",
        "  \n",
        "  \n",
        "  hh = model.fit(\n",
        "  train_images,\n",
        "  to_categorical(train_labels),\n",
        "  epochs=5,\n",
        "  batch_size=32, validation_split=0.2, verbose = 0\n",
        "  )\n",
        "\n",
        "  model.evaluate(\n",
        "  test_images,\n",
        "  to_categorical(test_labels)\n",
        "  ) \n",
        "\n",
        "  results_neurons['neurons'].append(i)\n",
        "  results_neurons['accuracy_tr'].append(hh.history['accuracy'][-1])\n",
        "  results_neurons['accuracy_val'].append(hh.history['val_accuracy'][-1])\n",
        "\n",
        "  results_neurons"
      ],
      "execution_count": 62,
      "outputs": [
        {
          "output_type": "stream",
          "text": [
            "313/313 [==============================] - 1s 3ms/step - loss: 0.8285 - accuracy: 0.6917\n",
            "313/313 [==============================] - 1s 3ms/step - loss: 0.4693 - accuracy: 0.8311\n",
            "313/313 [==============================] - 1s 3ms/step - loss: 0.4008 - accuracy: 0.8573\n",
            "313/313 [==============================] - 1s 3ms/step - loss: 0.3616 - accuracy: 0.8723\n",
            "313/313 [==============================] - 1s 3ms/step - loss: 0.3652 - accuracy: 0.8700\n",
            "313/313 [==============================] - 1s 3ms/step - loss: 0.3728 - accuracy: 0.8692\n",
            "313/313 [==============================] - 1s 3ms/step - loss: 0.3999 - accuracy: 0.8639\n"
          ],
          "name": "stdout"
        }
      ]
    },
    {
      "cell_type": "code",
      "metadata": {
        "colab": {
          "base_uri": "https://localhost:8080/",
          "height": 708
        },
        "id": "cPVhdrydK8nX",
        "outputId": "445cca33-4786-4c83-d0e4-8ddf690b089d"
      },
      "source": [
        "results_neurons = pd.DataFrame(data=results_neurons).sort_values('accuracy_val', ascending=False)"
      ],
      "execution_count": 103,
      "outputs": [
        {
          "output_type": "execute_result",
          "data": {
            "text/html": [
              "<div>\n",
              "<style scoped>\n",
              "    .dataframe tbody tr th:only-of-type {\n",
              "        vertical-align: middle;\n",
              "    }\n",
              "\n",
              "    .dataframe tbody tr th {\n",
              "        vertical-align: top;\n",
              "    }\n",
              "\n",
              "    .dataframe thead th {\n",
              "        text-align: right;\n",
              "    }\n",
              "</style>\n",
              "<table border=\"1\" class=\"dataframe\">\n",
              "  <thead>\n",
              "    <tr style=\"text-align: right;\">\n",
              "      <th></th>\n",
              "      <th>neurons</th>\n",
              "      <th>accuracy_tr</th>\n",
              "      <th>accuracy_val</th>\n",
              "    </tr>\n",
              "  </thead>\n",
              "  <tbody>\n",
              "    <tr>\n",
              "      <th>11</th>\n",
              "      <td>150</td>\n",
              "      <td>0.888125</td>\n",
              "      <td>0.881167</td>\n",
              "    </tr>\n",
              "    <tr>\n",
              "      <th>3</th>\n",
              "      <td>100</td>\n",
              "      <td>0.887958</td>\n",
              "      <td>0.881167</td>\n",
              "    </tr>\n",
              "    <tr>\n",
              "      <th>17</th>\n",
              "      <td>100</td>\n",
              "      <td>0.885333</td>\n",
              "      <td>0.880167</td>\n",
              "    </tr>\n",
              "    <tr>\n",
              "      <th>13</th>\n",
              "      <td>700</td>\n",
              "      <td>0.891583</td>\n",
              "      <td>0.880167</td>\n",
              "    </tr>\n",
              "    <tr>\n",
              "      <th>18</th>\n",
              "      <td>150</td>\n",
              "      <td>0.888875</td>\n",
              "      <td>0.879250</td>\n",
              "    </tr>\n",
              "    <tr>\n",
              "      <th>19</th>\n",
              "      <td>300</td>\n",
              "      <td>0.889188</td>\n",
              "      <td>0.877417</td>\n",
              "    </tr>\n",
              "    <tr>\n",
              "      <th>4</th>\n",
              "      <td>150</td>\n",
              "      <td>0.889687</td>\n",
              "      <td>0.875667</td>\n",
              "    </tr>\n",
              "    <tr>\n",
              "      <th>9</th>\n",
              "      <td>50</td>\n",
              "      <td>0.881938</td>\n",
              "      <td>0.874500</td>\n",
              "    </tr>\n",
              "    <tr>\n",
              "      <th>12</th>\n",
              "      <td>300</td>\n",
              "      <td>0.889938</td>\n",
              "      <td>0.873250</td>\n",
              "    </tr>\n",
              "    <tr>\n",
              "      <th>20</th>\n",
              "      <td>700</td>\n",
              "      <td>0.890333</td>\n",
              "      <td>0.872583</td>\n",
              "    </tr>\n",
              "    <tr>\n",
              "      <th>5</th>\n",
              "      <td>300</td>\n",
              "      <td>0.892812</td>\n",
              "      <td>0.872500</td>\n",
              "    </tr>\n",
              "    <tr>\n",
              "      <th>10</th>\n",
              "      <td>100</td>\n",
              "      <td>0.885833</td>\n",
              "      <td>0.871917</td>\n",
              "    </tr>\n",
              "    <tr>\n",
              "      <th>6</th>\n",
              "      <td>700</td>\n",
              "      <td>0.890938</td>\n",
              "      <td>0.871833</td>\n",
              "    </tr>\n",
              "    <tr>\n",
              "      <th>2</th>\n",
              "      <td>50</td>\n",
              "      <td>0.876583</td>\n",
              "      <td>0.868833</td>\n",
              "    </tr>\n",
              "    <tr>\n",
              "      <th>16</th>\n",
              "      <td>50</td>\n",
              "      <td>0.880188</td>\n",
              "      <td>0.866417</td>\n",
              "    </tr>\n",
              "    <tr>\n",
              "      <th>8</th>\n",
              "      <td>10</td>\n",
              "      <td>0.857292</td>\n",
              "      <td>0.851750</td>\n",
              "    </tr>\n",
              "    <tr>\n",
              "      <th>1</th>\n",
              "      <td>10</td>\n",
              "      <td>0.852354</td>\n",
              "      <td>0.848500</td>\n",
              "    </tr>\n",
              "    <tr>\n",
              "      <th>15</th>\n",
              "      <td>10</td>\n",
              "      <td>0.852833</td>\n",
              "      <td>0.840667</td>\n",
              "    </tr>\n",
              "    <tr>\n",
              "      <th>14</th>\n",
              "      <td>2</td>\n",
              "      <td>0.683792</td>\n",
              "      <td>0.693750</td>\n",
              "    </tr>\n",
              "    <tr>\n",
              "      <th>0</th>\n",
              "      <td>2</td>\n",
              "      <td>0.596708</td>\n",
              "      <td>0.611167</td>\n",
              "    </tr>\n",
              "    <tr>\n",
              "      <th>7</th>\n",
              "      <td>2</td>\n",
              "      <td>0.533292</td>\n",
              "      <td>0.552083</td>\n",
              "    </tr>\n",
              "  </tbody>\n",
              "</table>\n",
              "</div>"
            ],
            "text/plain": [
              "    neurons  accuracy_tr  accuracy_val\n",
              "11      150     0.888125      0.881167\n",
              "3       100     0.887958      0.881167\n",
              "17      100     0.885333      0.880167\n",
              "13      700     0.891583      0.880167\n",
              "18      150     0.888875      0.879250\n",
              "19      300     0.889188      0.877417\n",
              "4       150     0.889687      0.875667\n",
              "9        50     0.881938      0.874500\n",
              "12      300     0.889938      0.873250\n",
              "20      700     0.890333      0.872583\n",
              "5       300     0.892812      0.872500\n",
              "10      100     0.885833      0.871917\n",
              "6       700     0.890938      0.871833\n",
              "2        50     0.876583      0.868833\n",
              "16       50     0.880188      0.866417\n",
              "8        10     0.857292      0.851750\n",
              "1        10     0.852354      0.848500\n",
              "15       10     0.852833      0.840667\n",
              "14        2     0.683792      0.693750\n",
              "0         2     0.596708      0.611167\n",
              "7         2     0.533292      0.552083"
            ]
          },
          "metadata": {
            "tags": []
          },
          "execution_count": 103
        }
      ]
    },
    {
      "cell_type": "code",
      "metadata": {
        "colab": {
          "base_uri": "https://localhost:8080/",
          "height": 206
        },
        "id": "aFj_2tjYhefr",
        "outputId": "3340d875-5ecf-4b0c-bc3d-2d3b72f30e64"
      },
      "source": [
        "results_neurons.head()"
      ],
      "execution_count": 106,
      "outputs": [
        {
          "output_type": "execute_result",
          "data": {
            "text/html": [
              "<div>\n",
              "<style scoped>\n",
              "    .dataframe tbody tr th:only-of-type {\n",
              "        vertical-align: middle;\n",
              "    }\n",
              "\n",
              "    .dataframe tbody tr th {\n",
              "        vertical-align: top;\n",
              "    }\n",
              "\n",
              "    .dataframe thead th {\n",
              "        text-align: right;\n",
              "    }\n",
              "</style>\n",
              "<table border=\"1\" class=\"dataframe\">\n",
              "  <thead>\n",
              "    <tr style=\"text-align: right;\">\n",
              "      <th></th>\n",
              "      <th>neurons</th>\n",
              "      <th>accuracy_tr</th>\n",
              "      <th>accuracy_val</th>\n",
              "    </tr>\n",
              "  </thead>\n",
              "  <tbody>\n",
              "    <tr>\n",
              "      <th>11</th>\n",
              "      <td>150</td>\n",
              "      <td>0.888125</td>\n",
              "      <td>0.881167</td>\n",
              "    </tr>\n",
              "    <tr>\n",
              "      <th>3</th>\n",
              "      <td>100</td>\n",
              "      <td>0.887958</td>\n",
              "      <td>0.881167</td>\n",
              "    </tr>\n",
              "    <tr>\n",
              "      <th>17</th>\n",
              "      <td>100</td>\n",
              "      <td>0.885333</td>\n",
              "      <td>0.880167</td>\n",
              "    </tr>\n",
              "    <tr>\n",
              "      <th>13</th>\n",
              "      <td>700</td>\n",
              "      <td>0.891583</td>\n",
              "      <td>0.880167</td>\n",
              "    </tr>\n",
              "    <tr>\n",
              "      <th>18</th>\n",
              "      <td>150</td>\n",
              "      <td>0.888875</td>\n",
              "      <td>0.879250</td>\n",
              "    </tr>\n",
              "  </tbody>\n",
              "</table>\n",
              "</div>"
            ],
            "text/plain": [
              "    neurons  accuracy_tr  accuracy_val\n",
              "11      150     0.888125      0.881167\n",
              "3       100     0.887958      0.881167\n",
              "17      100     0.885333      0.880167\n",
              "13      700     0.891583      0.880167\n",
              "18      150     0.888875      0.879250"
            ]
          },
          "metadata": {
            "tags": []
          },
          "execution_count": 106
        }
      ]
    },
    {
      "cell_type": "markdown",
      "metadata": {
        "id": "0naexWknbvnN"
      },
      "source": [
        "**числа слоев (2, 3, 5, 10) при близких размерах сети (близкое число тренируемых парметров)**"
      ]
    },
    {
      "cell_type": "code",
      "metadata": {
        "id": "z8e-B_m5cJY7"
      },
      "source": [
        "results_layers =  {\n",
        "    'layers': [],\n",
        "    'accuracy_tr': [],\n",
        "    'accuracy_val': []\n",
        "    }"
      ],
      "execution_count": 88,
      "outputs": []
    },
    {
      "cell_type": "code",
      "metadata": {
        "colab": {
          "base_uri": "https://localhost:8080/"
        },
        "id": "GB-J1dADcvzf",
        "outputId": "2fec322e-73c7-4b6d-828c-290f8924051a"
      },
      "source": [
        "#2 слоя\n",
        "model = Sequential([\n",
        "  Dense(100, activation='relu', input_shape=(784,)),\n",
        "  Dense(10, activation='softmax'),\n",
        "])\n",
        "\n",
        "model.compile(\n",
        "optimizer='adam',\n",
        "loss='categorical_crossentropy',\n",
        "metrics=['accuracy'],\n",
        ")\n",
        "\n",
        "hh = model.fit(\n",
        "train_images,\n",
        "to_categorical(train_labels),\n",
        "epochs=5,\n",
        "batch_size=32, validation_split=0.2, verbose = 0\n",
        ")\n",
        "\n",
        "model.evaluate(\n",
        "test_images,\n",
        "to_categorical(test_labels)\n",
        ") \n",
        "\n",
        "results_layers['layers'].append(2)\n",
        "results_layers['accuracy_tr'].append(hh.history['accuracy'][-1])\n",
        "results_layers['accuracy_val'].append(hh.history['val_accuracy'][-1])\n",
        "\n",
        "\n",
        "model.summary()"
      ],
      "execution_count": 91,
      "outputs": [
        {
          "output_type": "stream",
          "text": [
            "313/313 [==============================] - 1s 3ms/step - loss: 0.3888 - accuracy: 0.8641\n",
            "Model: \"sequential_20\"\n",
            "_________________________________________________________________\n",
            "Layer (type)                 Output Shape              Param #   \n",
            "=================================================================\n",
            "dense_161 (Dense)            (None, 100)               78500     \n",
            "_________________________________________________________________\n",
            "dense_162 (Dense)            (None, 10)                1010      \n",
            "=================================================================\n",
            "Total params: 79,510\n",
            "Trainable params: 79,510\n",
            "Non-trainable params: 0\n",
            "_________________________________________________________________\n"
          ],
          "name": "stdout"
        }
      ]
    },
    {
      "cell_type": "code",
      "metadata": {
        "colab": {
          "base_uri": "https://localhost:8080/"
        },
        "id": "YRxUx0s7cv2D",
        "outputId": "12f90065-92e4-4591-ca59-b7711d93047b"
      },
      "source": [
        "#3\n",
        "model = Sequential([\n",
        "  Dense(90, activation='relu', input_shape=(784,)),\n",
        "  Dense(90, activation='relu'),\n",
        "  Dense(10, activation='softmax'),\n",
        "])\n",
        "\n",
        "model.compile(\n",
        "optimizer='adam',\n",
        "loss='categorical_crossentropy',\n",
        "metrics=['accuracy'],\n",
        ")\n",
        "\n",
        "hh = model.fit(\n",
        "train_images,\n",
        "to_categorical(train_labels),\n",
        "epochs=5,\n",
        "batch_size=32, validation_split=0.2, verbose = 0\n",
        ")\n",
        "\n",
        "model.evaluate(\n",
        "test_images,\n",
        "to_categorical(test_labels)\n",
        ") \n",
        "\n",
        "results_layers['layers'].append(3)\n",
        "results_layers['accuracy_tr'].append(hh.history['accuracy'][-1])\n",
        "results_layers['accuracy_val'].append(hh.history['val_accuracy'][-1])\n",
        "\n",
        "\n",
        "model.summary()"
      ],
      "execution_count": 95,
      "outputs": [
        {
          "output_type": "stream",
          "text": [
            "313/313 [==============================] - 1s 3ms/step - loss: 0.3670 - accuracy: 0.8687\n",
            "Model: \"sequential_23\"\n",
            "_________________________________________________________________\n",
            "Layer (type)                 Output Shape              Param #   \n",
            "=================================================================\n",
            "dense_169 (Dense)            (None, 90)                70650     \n",
            "_________________________________________________________________\n",
            "dense_170 (Dense)            (None, 90)                8190      \n",
            "_________________________________________________________________\n",
            "dense_171 (Dense)            (None, 10)                910       \n",
            "=================================================================\n",
            "Total params: 79,750\n",
            "Trainable params: 79,750\n",
            "Non-trainable params: 0\n",
            "_________________________________________________________________\n"
          ],
          "name": "stdout"
        }
      ]
    },
    {
      "cell_type": "code",
      "metadata": {
        "colab": {
          "base_uri": "https://localhost:8080/"
        },
        "id": "0XbXcMK3cv4u",
        "outputId": "9d51f7f9-a48b-4249-ca62-df4f19eb3ef4"
      },
      "source": [
        "#5\n",
        "model = Sequential([\n",
        "  Dense(80, activation='relu', input_shape=(784,)),\n",
        "  Dense(80, activation='relu'),\n",
        "  Dense(80, activation='relu'),\n",
        "  Dense(80, activation='relu'),\n",
        "  Dense(10, activation='softmax'),\n",
        "])\n",
        "\n",
        "model.compile(\n",
        "optimizer='adam',\n",
        "loss='categorical_crossentropy',\n",
        "metrics=['accuracy'],\n",
        ")\n",
        "\n",
        "hh = model.fit(\n",
        "train_images,\n",
        "to_categorical(train_labels),\n",
        "epochs=5,\n",
        "batch_size=32, validation_split=0.2, verbose = 0\n",
        ")\n",
        "\n",
        "model.evaluate(\n",
        "test_images,\n",
        "to_categorical(test_labels)\n",
        ") \n",
        "\n",
        "results_layers['layers'].append(5)\n",
        "results_layers['accuracy_tr'].append(hh.history['accuracy'][-1])\n",
        "results_layers['accuracy_val'].append(hh.history['val_accuracy'][-1])\n",
        "\n",
        "\n",
        "model.summary()"
      ],
      "execution_count": 98,
      "outputs": [
        {
          "output_type": "stream",
          "text": [
            "313/313 [==============================] - 1s 3ms/step - loss: 0.3780 - accuracy: 0.8664\n",
            "Model: \"sequential_26\"\n",
            "_________________________________________________________________\n",
            "Layer (type)                 Output Shape              Param #   \n",
            "=================================================================\n",
            "dense_182 (Dense)            (None, 80)                62800     \n",
            "_________________________________________________________________\n",
            "dense_183 (Dense)            (None, 80)                6480      \n",
            "_________________________________________________________________\n",
            "dense_184 (Dense)            (None, 80)                6480      \n",
            "_________________________________________________________________\n",
            "dense_185 (Dense)            (None, 80)                6480      \n",
            "_________________________________________________________________\n",
            "dense_186 (Dense)            (None, 10)                810       \n",
            "=================================================================\n",
            "Total params: 83,050\n",
            "Trainable params: 83,050\n",
            "Non-trainable params: 0\n",
            "_________________________________________________________________\n"
          ],
          "name": "stdout"
        }
      ]
    },
    {
      "cell_type": "code",
      "metadata": {
        "colab": {
          "base_uri": "https://localhost:8080/"
        },
        "id": "79GnaWQGcv7j",
        "outputId": "ce9d32b9-eda8-4772-e26b-16979a04e087"
      },
      "source": [
        "#10\n",
        "model = Sequential([\n",
        "  Dense(60, activation='relu', input_shape=(784,)),\n",
        "  Dense(60, activation='relu'),\n",
        "  Dense(60, activation='relu'),\n",
        "  Dense(60, activation='relu'),\n",
        "  Dense(60, activation='relu'),\n",
        "  Dense(60, activation='relu'),\n",
        "  Dense(60, activation='relu'),\n",
        "  Dense(60, activation='relu'),\n",
        "  Dense(60, activation='relu'),\n",
        "  Dense(10, activation='softmax'),\n",
        "])\n",
        "\n",
        "model.compile(\n",
        "optimizer='adam',\n",
        "loss='categorical_crossentropy',\n",
        "metrics=['accuracy'],\n",
        ")\n",
        "\n",
        "hh = model.fit(\n",
        "train_images,\n",
        "to_categorical(train_labels),\n",
        "epochs=5,\n",
        "batch_size=32, validation_split=0.2, verbose = 0\n",
        ")\n",
        "\n",
        "model.evaluate(\n",
        "test_images,\n",
        "to_categorical(test_labels)\n",
        ") \n",
        "\n",
        "results_layers['layers'].append(10)\n",
        "results_layers['accuracy_tr'].append(hh.history['accuracy'][-1])\n",
        "results_layers['accuracy_val'].append(hh.history['val_accuracy'][-1])\n",
        "\n",
        "\n",
        "model.summary()"
      ],
      "execution_count": 102,
      "outputs": [
        {
          "output_type": "stream",
          "text": [
            "313/313 [==============================] - 1s 3ms/step - loss: 0.4085 - accuracy: 0.8493\n",
            "Model: \"sequential_29\"\n",
            "_________________________________________________________________\n",
            "Layer (type)                 Output Shape              Param #   \n",
            "=================================================================\n",
            "dense_207 (Dense)            (None, 60)                47100     \n",
            "_________________________________________________________________\n",
            "dense_208 (Dense)            (None, 60)                3660      \n",
            "_________________________________________________________________\n",
            "dense_209 (Dense)            (None, 60)                3660      \n",
            "_________________________________________________________________\n",
            "dense_210 (Dense)            (None, 60)                3660      \n",
            "_________________________________________________________________\n",
            "dense_211 (Dense)            (None, 60)                3660      \n",
            "_________________________________________________________________\n",
            "dense_212 (Dense)            (None, 60)                3660      \n",
            "_________________________________________________________________\n",
            "dense_213 (Dense)            (None, 60)                3660      \n",
            "_________________________________________________________________\n",
            "dense_214 (Dense)            (None, 60)                3660      \n",
            "_________________________________________________________________\n",
            "dense_215 (Dense)            (None, 60)                3660      \n",
            "_________________________________________________________________\n",
            "dense_216 (Dense)            (None, 10)                610       \n",
            "=================================================================\n",
            "Total params: 76,990\n",
            "Trainable params: 76,990\n",
            "Non-trainable params: 0\n",
            "_________________________________________________________________\n"
          ],
          "name": "stdout"
        }
      ]
    },
    {
      "cell_type": "code",
      "metadata": {
        "id": "jChgjxg-cv-L"
      },
      "source": [
        "results_layers = pd.DataFrame(data=results_layers).sort_values('accuracy_val', ascending=False)"
      ],
      "execution_count": 104,
      "outputs": []
    },
    {
      "cell_type": "code",
      "metadata": {
        "colab": {
          "base_uri": "https://localhost:8080/",
          "height": 206
        },
        "id": "SXsLSvluhDVo",
        "outputId": "bd2f6c86-0ce9-48f0-be0c-d53382694cdb"
      },
      "source": [
        "results_layers.head()"
      ],
      "execution_count": 107,
      "outputs": [
        {
          "output_type": "execute_result",
          "data": {
            "text/html": [
              "<div>\n",
              "<style scoped>\n",
              "    .dataframe tbody tr th:only-of-type {\n",
              "        vertical-align: middle;\n",
              "    }\n",
              "\n",
              "    .dataframe tbody tr th {\n",
              "        vertical-align: top;\n",
              "    }\n",
              "\n",
              "    .dataframe thead th {\n",
              "        text-align: right;\n",
              "    }\n",
              "</style>\n",
              "<table border=\"1\" class=\"dataframe\">\n",
              "  <thead>\n",
              "    <tr style=\"text-align: right;\">\n",
              "      <th></th>\n",
              "      <th>layers</th>\n",
              "      <th>accuracy_tr</th>\n",
              "      <th>accuracy_val</th>\n",
              "    </tr>\n",
              "  </thead>\n",
              "  <tbody>\n",
              "    <tr>\n",
              "      <th>0</th>\n",
              "      <td>2</td>\n",
              "      <td>0.886292</td>\n",
              "      <td>0.882417</td>\n",
              "    </tr>\n",
              "    <tr>\n",
              "      <th>3</th>\n",
              "      <td>3</td>\n",
              "      <td>0.887021</td>\n",
              "      <td>0.879333</td>\n",
              "    </tr>\n",
              "    <tr>\n",
              "      <th>8</th>\n",
              "      <td>5</td>\n",
              "      <td>0.883896</td>\n",
              "      <td>0.878167</td>\n",
              "    </tr>\n",
              "    <tr>\n",
              "      <th>1</th>\n",
              "      <td>2</td>\n",
              "      <td>0.888812</td>\n",
              "      <td>0.876667</td>\n",
              "    </tr>\n",
              "    <tr>\n",
              "      <th>5</th>\n",
              "      <td>3</td>\n",
              "      <td>0.886708</td>\n",
              "      <td>0.875250</td>\n",
              "    </tr>\n",
              "  </tbody>\n",
              "</table>\n",
              "</div>"
            ],
            "text/plain": [
              "   layers  accuracy_tr  accuracy_val\n",
              "0       2     0.886292      0.882417\n",
              "3       3     0.887021      0.879333\n",
              "8       5     0.883896      0.878167\n",
              "1       2     0.888812      0.876667\n",
              "5       3     0.886708      0.875250"
            ]
          },
          "metadata": {
            "tags": []
          },
          "execution_count": 107
        }
      ]
    },
    {
      "cell_type": "markdown",
      "metadata": {
        "id": "S7roqrCMh0us"
      },
      "source": [
        "**Проверьте работу разных оптимизаторов (SGD, Adam, RMSProp) для одной из моделей п.1.Фиксируйте для тренировочного и тестового набора метрики accuracy.**"
      ]
    },
    {
      "cell_type": "code",
      "metadata": {
        "id": "Tzo5Ufeek_pb"
      },
      "source": [
        "results_optim =  {\n",
        "    'optim': [],\n",
        "    'accuracy_tr': [],\n",
        "    'accuracy_val': []\n",
        "    }"
      ],
      "execution_count": 113,
      "outputs": []
    },
    {
      "cell_type": "code",
      "metadata": {
        "colab": {
          "base_uri": "https://localhost:8080/",
          "height": 458
        },
        "id": "e37I-1qth4vU",
        "outputId": "2c2ec893-4f00-452e-c204-5c3542aa008c"
      },
      "source": [
        "# создаем модель model\n",
        "model = Sequential([\n",
        "                      Dense(100, activation='relu', input_shape=(784,)),\n",
        "                      Dense(10, activation='softmax'),\n",
        "                      ])\n",
        "# сохраняем ее веса (это начальная точка) model.save_weights('model.h5')\n",
        "model.save_weights('model.h5')\n",
        "\n",
        "plt.figure(figsize=(16,7))\n",
        "\n",
        "# число рабочих эпох\n",
        "epochs = 20\n",
        "# вектор для выводв результатов\n",
        "epoch = np.arange(epochs+1)\n",
        "\n",
        "# будем изменять оптимизаторы\n",
        "for i_optim in [keras.optimizers.RMSprop(),keras.optimizers.SGD(),keras.optimizers.Adam(),keras.optimizers.Nadam()]:\n",
        "  # создаем рабочую модель modeli куда будем загружать эти вес (она должна быть идентичной структуры)\n",
        "  modeli = Sequential([\n",
        "                      Dense(100, activation='relu', input_shape=(784,)),\n",
        "                      Dense(10, activation='softmax'),\n",
        "                      ])\n",
        "  # загружаем веса modeli.load_weights('model.h5')\n",
        "  modeli.load_weights('model.h5')\n",
        "  # компилируем modeli с одним из оптимизаторов\n",
        "  modeli.compile(\n",
        "      optimizer=i_optim,\n",
        "      loss='categorical_crossentropy',\n",
        "      metrics=['accuracy'],\n",
        "      )\n",
        "  # вычисляем ошибку для modeli без обучения\n",
        "  hh0_tr = modeli.evaluate(  train_images[:48000,:], to_categorical(train_labels[:48000]),verbose = 0)\n",
        "  hh0_val = modeli.evaluate(  train_images[48000:,:], to_categorical(train_labels[48000:]),verbose = 0)\n",
        "  # проводим обучение модели \n",
        "  hh = modeli.fit(\n",
        "  train_images,\n",
        "  to_categorical(train_labels),\n",
        "  epochs=epochs,\n",
        "  batch_size=32, validation_split=0.2, verbose = 0\n",
        "  )\n",
        "\n",
        "  results_optim['optim'].append(i_optim)\n",
        "  results_optim['accuracy_tr'].append(hh.history['accuracy'][-1])\n",
        "  results_optim['accuracy_val'].append(hh.history['val_accuracy'][-1])\n",
        "\n",
        "  # картинки\n",
        "  plt.plot(epoch,np.log([hh0_tr[0]]+hh.history['loss']),'-',label = modeli.optimizer.get_config()['name']+' train')\n",
        "  plt.plot(epoch,np.log([hh0_val[0]]+hh.history['val_loss']),'--',label = modeli.optimizer.get_config()['name']+' val')\n",
        "\n",
        "\n",
        "plt.legend()\n",
        "plt.grid('On')\n",
        "\n",
        "plt.title('нейросети от оптимизатора log(loss)')\n",
        "plt.xlabel('epoch')\n",
        "plt.ylabel('log(loss)')\n",
        "plt.show()"
      ],
      "execution_count": 114,
      "outputs": [
        {
          "output_type": "display_data",
          "data": {
            "image/png": "[encoded data removed]",
            "text/plain": [
              "<Figure size 1152x504 with 1 Axes>"
            ]
          },
          "metadata": {
            "tags": [],
            "needs_background": "light"
          }
        }
      ]
    },
    {
      "cell_type": "code",
      "metadata": {
        "id": "A-TY04lyl3-t"
      },
      "source": [
        "results_optim = pd.DataFrame(data=results_optim).sort_values('accuracy_val', ascending=False)"
      ],
      "execution_count": 115,
      "outputs": []
    },
    {
      "cell_type": "code",
      "metadata": {
        "colab": {
          "base_uri": "https://localhost:8080/",
          "height": 175
        },
        "id": "hYeVy4fbl9VS",
        "outputId": "a42f555a-8cdc-4219-937d-f61d5522c9ca"
      },
      "source": [
        "results_optim"
      ],
      "execution_count": 116,
      "outputs": [
        {
          "output_type": "execute_result",
          "data": {
            "text/html": [
              "<div>\n",
              "<style scoped>\n",
              "    .dataframe tbody tr th:only-of-type {\n",
              "        vertical-align: middle;\n",
              "    }\n",
              "\n",
              "    .dataframe tbody tr th {\n",
              "        vertical-align: top;\n",
              "    }\n",
              "\n",
              "    .dataframe thead th {\n",
              "        text-align: right;\n",
              "    }\n",
              "</style>\n",
              "<table border=\"1\" class=\"dataframe\">\n",
              "  <thead>\n",
              "    <tr style=\"text-align: right;\">\n",
              "      <th></th>\n",
              "      <th>optim</th>\n",
              "      <th>accuracy_tr</th>\n",
              "      <th>accuracy_val</th>\n",
              "    </tr>\n",
              "  </thead>\n",
              "  <tbody>\n",
              "    <tr>\n",
              "      <th>3</th>\n",
              "      <td>&lt;tensorflow.python.keras.optimizer_v2.nadam.Na...</td>\n",
              "      <td>0.934042</td>\n",
              "      <td>0.888083</td>\n",
              "    </tr>\n",
              "    <tr>\n",
              "      <th>2</th>\n",
              "      <td>&lt;tensorflow.python.keras.optimizer_v2.adam.Ada...</td>\n",
              "      <td>0.929667</td>\n",
              "      <td>0.879417</td>\n",
              "    </tr>\n",
              "    <tr>\n",
              "      <th>1</th>\n",
              "      <td>&lt;tensorflow.python.keras.optimizer_v2.gradient...</td>\n",
              "      <td>0.901354</td>\n",
              "      <td>0.879167</td>\n",
              "    </tr>\n",
              "    <tr>\n",
              "      <th>0</th>\n",
              "      <td>&lt;tensorflow.python.keras.optimizer_v2.rmsprop....</td>\n",
              "      <td>0.926333</td>\n",
              "      <td>0.879083</td>\n",
              "    </tr>\n",
              "  </tbody>\n",
              "</table>\n",
              "</div>"
            ],
            "text/plain": [
              "                                               optim  accuracy_tr  accuracy_val\n",
              "3  <tensorflow.python.keras.optimizer_v2.nadam.Na...     0.934042      0.888083\n",
              "2  <tensorflow.python.keras.optimizer_v2.adam.Ada...     0.929667      0.879417\n",
              "1  <tensorflow.python.keras.optimizer_v2.gradient...     0.901354      0.879167\n",
              "0  <tensorflow.python.keras.optimizer_v2.rmsprop....     0.926333      0.879083"
            ]
          },
          "metadata": {
            "tags": []
          },
          "execution_count": 116
        }
      ]
    },
    {
      "cell_type": "markdown",
      "metadata": {
        "id": "ivOIoXG7mL1p"
      },
      "source": [
        "**Сделайте вывод - что помогло вам улучшить качество классификации в нейросети на тестовом наборе?**"
      ]
    },
    {
      "cell_type": "markdown",
      "metadata": {
        "id": "Xg7tjCWUmVKu"
      },
      "source": [
        "Начали мы с бйзлайна в 0.8658 на тестовой выборке при числе нейронов в 128 и количестве слоев = 2. Промежуточный набор параметров со средним результатом 0.876667 оказался таким: нейронов = 100, слоев = 2, оптимизация = adam. На последнем шаге мы просмотрели варианты оптимизации + увеличели количество эпох и получили максимальный результат на тесте 0.888083. Разница между бэйзлайном и итоговым значением невилика. На улучшение результата повлиял оптимизатор и увеличение количества эпох. "
      ]
    },
    {
      "cell_type": "markdown",
      "metadata": {
        "id": "0Zz8vwJIqxd2"
      },
      "source": [
        "**Для одного варианта сетей сформируйте матрицу ошибок по классам. Оцените качество модели по каждому классу отдельно (полнота , точность)**"
      ]
    },
    {
      "cell_type": "markdown",
      "metadata": {
        "id": "UBccl_7bur1c"
      },
      "source": [
        "Не получилось выполнить для многоклассовой классификации, очень прошу разобрать на уроке или выложить решение по дз2"
      ]
    }
  ]
}
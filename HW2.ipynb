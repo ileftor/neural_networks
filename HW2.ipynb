{
  "nbformat": 4,
  "nbformat_minor": 0,
  "metadata": {
    "colab": {
      "name": "HW2.ipynb",
      "provenance": [],
      "collapsed_sections": []
    },
    "kernelspec": {
      "name": "python3",
      "display_name": "Python 3"
    },
    "language_info": {
      "name": "python"
    },
    "accelerator": "GPU"
  },
  "cells": [
    {
      "cell_type": "markdown",
      "metadata": {
        "id": "l2kxqh-SGFIq"
      },
      "source": [
        "# **Домашнее задание 2**"
      ]
    },
    {
      "cell_type": "markdown",
      "metadata": {
        "id": "pHlmtl-ZGLur"
      },
      "source": [
        "## Практическое задание\n",
        "\n",
        "Используем набор примеров fashion-MNIST\n",
        "\n",
        "1.  Опишите - какой результата получен в нейросети в зависимости от:\n",
        "  -  числа нейронов в слое(для 2-хслойной сети), \n",
        "  - числа слоев (2, 3, 5, 10) при близких размерах сети (близкое число тренируемых парметров).\n",
        "  - фиксируйте для тренировочного и тестового набора метрики accuracy.\n",
        "2.  Проверьте работу разных оптимизаторов (SGD, Adam, RMSProp) для одной из моделей п.1.Фиксируйте для тренировочного и тестового набора метрики accuracy.\n",
        "\n",
        "3. Сделайте вывод - что помогло вам улучшить качество классификации в нейросети на тестовом наборе? \n",
        "\n",
        "4. Для одного варианта сетей сформируйте матрицу ошибок по классам. Оцените качество модели по каждому классу отдельно (полнота , точность)"
      ]
    },
    {
      "cell_type": "code",
      "metadata": {
        "id": "2b0DRcVqHMcg"
      },
      "source": [
        "import numpy as np\n",
        "import pandas as pd\n",
        "\n",
        "import keras\n",
        "from keras.models import Sequential\n",
        "from keras.layers import Dense\n",
        "from keras.utils import to_categorical\n",
        "from keras.datasets import fashion_mnist\n",
        "\n",
        "import matplotlib.pyplot as plt"
      ],
      "execution_count": 2,
      "outputs": []
    },
    {
      "cell_type": "code",
      "metadata": {
        "id": "YDcjCTVmHWDH",
        "colab": {
          "base_uri": "https://localhost:8080/"
        },
        "outputId": "df7a157a-135f-4697-fdd0-20aaf399ea01"
      },
      "source": [
        "(train_imagesi,train_labels),(test_imagesi,test_labels)=fashion_mnist.load_data()"
      ],
      "execution_count": 3,
      "outputs": [
        {
          "output_type": "stream",
          "text": [
            "Downloading data from https://storage.googleapis.com/tensorflow/tf-keras-datasets/train-labels-idx1-ubyte.gz\n",
            "32768/29515 [=================================] - 0s 0us/step\n",
            "Downloading data from https://storage.googleapis.com/tensorflow/tf-keras-datasets/train-images-idx3-ubyte.gz\n",
            "26427392/26421880 [==============================] - 0s 0us/step\n",
            "Downloading data from https://storage.googleapis.com/tensorflow/tf-keras-datasets/t10k-labels-idx1-ubyte.gz\n",
            "8192/5148 [===============================================] - 0s 0us/step\n",
            "Downloading data from https://storage.googleapis.com/tensorflow/tf-keras-datasets/t10k-images-idx3-ubyte.gz\n",
            "4423680/4422102 [==============================] - 0s 0us/step\n"
          ],
          "name": "stdout"
        }
      ]
    },
    {
      "cell_type": "code",
      "metadata": {
        "id": "ietlBMgKHWQ6"
      },
      "source": [
        "# Normalize the images.\n",
        "train_images = (train_imagesi / 127) - 1\n",
        "test_images = (test_imagesi / 127) - 1\n",
        "\n",
        "# Flatten the images.\n",
        "train_images = train_images.reshape((-1, 784))\n",
        "test_images = test_images.reshape((-1, 784))"
      ],
      "execution_count": 4,
      "outputs": []
    },
    {
      "cell_type": "code",
      "metadata": {
        "colab": {
          "base_uri": "https://localhost:8080/"
        },
        "id": "dWVtRvMPHWKN",
        "outputId": "bef482aa-7ce8-458b-a017-6d0d8fbfde9a"
      },
      "source": [
        "train_images.shape"
      ],
      "execution_count": 5,
      "outputs": [
        {
          "output_type": "execute_result",
          "data": {
            "text/plain": [
              "(60000, 784)"
            ]
          },
          "metadata": {
            "tags": []
          },
          "execution_count": 5
        }
      ]
    },
    {
      "cell_type": "code",
      "metadata": {
        "colab": {
          "base_uri": "https://localhost:8080/",
          "height": 265
        },
        "id": "nVVsQkUJJB25",
        "outputId": "60e598ee-642a-4f49-c575-b8dcaf249c6f"
      },
      "source": [
        "plt.imshow(train_imagesi[20,:,:])\n",
        "plt.show()"
      ],
      "execution_count": 6,
      "outputs": [
        {
          "output_type": "display_data",
          "data": {
            "image/png": "[encoded data removed]",
            "text/plain": [
              "<Figure size 432x288 with 1 Axes>"
            ]
          },
          "metadata": {
            "tags": [],
            "needs_background": "light"
          }
        }
      ]
    },
    {
      "cell_type": "code",
      "metadata": {
        "id": "E_QtginHK8af"
      },
      "source": [
        "model = Sequential(name='my_model')\n",
        "model.add(Dense(128, activation='relu', input_shape=(784,)))\n",
        "\n",
        "model.add(Dense(10, activation='softmax'))"
      ],
      "execution_count": 7,
      "outputs": []
    },
    {
      "cell_type": "code",
      "metadata": {
        "id": "Y3-0fxYaK8dK"
      },
      "source": [
        "model.compile(\n",
        "  optimizer='adam',\n",
        "  loss='categorical_crossentropy',\n",
        "  metrics=['accuracy'],\n",
        ")"
      ],
      "execution_count": 8,
      "outputs": []
    },
    {
      "cell_type": "code",
      "metadata": {
        "colab": {
          "base_uri": "https://localhost:8080/"
        },
        "id": "bDy4rOpCK8ft",
        "outputId": "df5440bb-037e-43a7-cdb3-f49c6ee4a14c"
      },
      "source": [
        "model.summary()"
      ],
      "execution_count": 9,
      "outputs": [
        {
          "output_type": "stream",
          "text": [
            "Model: \"my_model\"\n",
            "_________________________________________________________________\n",
            "Layer (type)                 Output Shape              Param #   \n",
            "=================================================================\n",
            "dense (Dense)                (None, 128)               100480    \n",
            "_________________________________________________________________\n",
            "dense_1 (Dense)              (None, 10)                1290      \n",
            "=================================================================\n",
            "Total params: 101,770\n",
            "Trainable params: 101,770\n",
            "Non-trainable params: 0\n",
            "_________________________________________________________________\n"
          ],
          "name": "stdout"
        }
      ]
    },
    {
      "cell_type": "code",
      "metadata": {
        "colab": {
          "base_uri": "https://localhost:8080/"
        },
        "id": "vnrMPTZaK8ie",
        "outputId": "85563aba-e9ea-4f3a-c9cd-039f4b717068"
      },
      "source": [
        "y_t = to_categorical(train_labels)\n",
        "y_tt = to_categorical(test_labels)\n",
        "y_t[:3,:]"
      ],
      "execution_count": 10,
      "outputs": [
        {
          "output_type": "execute_result",
          "data": {
            "text/plain": [
              "array([[0., 0., 0., 0., 0., 0., 0., 0., 0., 1.],\n",
              "       [1., 0., 0., 0., 0., 0., 0., 0., 0., 0.],\n",
              "       [1., 0., 0., 0., 0., 0., 0., 0., 0., 0.]], dtype=float32)"
            ]
          },
          "metadata": {
            "tags": []
          },
          "execution_count": 10
        }
      ]
    },
    {
      "cell_type": "code",
      "metadata": {
        "colab": {
          "base_uri": "https://localhost:8080/"
        },
        "id": "ABYh6xtMK8k4",
        "outputId": "dc281ca7-faf2-4bf8-f8d3-2fa5c50a3f19"
      },
      "source": [
        "# Train the model.\n",
        "model.fit(  \n",
        "  train_images,\n",
        "  y_t,\n",
        "  epochs=5,\n",
        "  batch_size=32, validation_split=0.2\n",
        ")\n",
        "\n",
        "# Evaluate the model.\n",
        "model.evaluate( \n",
        "  test_images,\n",
        "  y_tt\n",
        ")\n",
        "\n",
        "# Predict on the first 5 test images.\n",
        "predictions = model.predict(test_images[:5])\n",
        "\n",
        "# Print our model's predictions.\n",
        "print(np.argmax(predictions, axis=1)) \n",
        "\n",
        "# Check our predictions against the ground truths.\n",
        "print(test_labels[:5]) "
      ],
      "execution_count": 12,
      "outputs": [
        {
          "output_type": "stream",
          "text": [
            "Epoch 1/5\n",
            "1500/1500 [==============================] - 3s 2ms/step - loss: 0.3050 - accuracy: 0.8874 - val_loss: 0.3382 - val_accuracy: 0.8792\n",
            "Epoch 2/5\n",
            "1500/1500 [==============================] - 3s 2ms/step - loss: 0.2895 - accuracy: 0.8908 - val_loss: 0.3513 - val_accuracy: 0.8741\n",
            "Epoch 3/5\n",
            "1500/1500 [==============================] - 3s 2ms/step - loss: 0.2744 - accuracy: 0.8971 - val_loss: 0.3606 - val_accuracy: 0.8751\n",
            "Epoch 4/5\n",
            "1500/1500 [==============================] - 3s 2ms/step - loss: 0.2653 - accuracy: 0.9003 - val_loss: 0.3291 - val_accuracy: 0.8799\n",
            "Epoch 5/5\n",
            "1500/1500 [==============================] - 3s 2ms/step - loss: 0.2530 - accuracy: 0.9059 - val_loss: 0.3491 - val_accuracy: 0.8820\n",
            "313/313 [==============================] - 1s 2ms/step - loss: 0.3697 - accuracy: 0.8730\n",
            "[9 2 1 1 6]\n",
            "[9 2 1 1 6]\n"
          ],
          "name": "stdout"
        }
      ]
    },
    {
      "cell_type": "markdown",
      "metadata": {
        "id": "_IG3XWXwhQeE"
      },
      "source": [
        "**числа нейронов в слое(для 2-хслойной сети)**"
      ]
    },
    {
      "cell_type": "code",
      "metadata": {
        "id": "7qQlqslpSZnp"
      },
      "source": [
        "results_neurons =  {\n",
        "    'neurons': [],\n",
        "    'accuracy_tr': [],\n",
        "    'accuracy_val': []\n",
        "    }"
      ],
      "execution_count": 13,
      "outputs": []
    },
    {
      "cell_type": "code",
      "metadata": {
        "colab": {
          "base_uri": "https://localhost:8080/"
        },
        "id": "CjThRQS9K8ps",
        "outputId": "0f554753-1385-4cc4-e3f3-709d86e8be41"
      },
      "source": [
        "\n",
        "n = [2, 10, 50, 100, 150, 300, 700]\n",
        "\n",
        "for r in range(11):\n",
        "  for i in n:\n",
        "\n",
        "    model = Sequential(name='my_model')\n",
        "    model.add(Dense(i, activation='relu', input_shape=(784,)))\n",
        "    model.add(Dense(10, activation='softmax'))\n",
        "\n",
        "    model.compile(\n",
        "    optimizer='adam',\n",
        "    loss='categorical_crossentropy',\n",
        "    metrics=['accuracy'],\n",
        "    )\n",
        "    \n",
        "    \n",
        "    hh = model.fit(\n",
        "    train_images,\n",
        "    to_categorical(train_labels),\n",
        "    epochs=5,\n",
        "    batch_size=32, validation_split=0.2, verbose = 0\n",
        "    )\n",
        "\n",
        "    model.evaluate(\n",
        "    test_images,\n",
        "    to_categorical(test_labels)\n",
        "    ) \n",
        "\n",
        "    results_neurons['neurons'].append(i)\n",
        "    results_neurons['accuracy_tr'].append(hh.history['accuracy'][-1])\n",
        "    results_neurons['accuracy_val'].append(hh.history['val_accuracy'][-1])"
      ],
      "execution_count": 15,
      "outputs": [
        {
          "output_type": "stream",
          "text": [
            "313/313 [==============================] - 1s 2ms/step - loss: 0.3803 - accuracy: 0.8597\n",
            "313/313 [==============================] - 1s 2ms/step - loss: 0.3693 - accuracy: 0.8684\n",
            "313/313 [==============================] - 1s 2ms/step - loss: 1.4795 - accuracy: 0.3876\n",
            "313/313 [==============================] - 1s 2ms/step - loss: 0.4945 - accuracy: 0.8187\n",
            "313/313 [==============================] - 1s 2ms/step - loss: 0.3910 - accuracy: 0.8604\n",
            "313/313 [==============================] - 1s 2ms/step - loss: 0.3685 - accuracy: 0.8698\n",
            "313/313 [==============================] - 1s 2ms/step - loss: 0.4006 - accuracy: 0.8574\n",
            "313/313 [==============================] - 1s 2ms/step - loss: 0.4113 - accuracy: 0.8552\n",
            "313/313 [==============================] - 1s 2ms/step - loss: 0.3576 - accuracy: 0.8732\n",
            "313/313 [==============================] - 1s 2ms/step - loss: 0.9130 - accuracy: 0.6564\n",
            "313/313 [==============================] - 1s 2ms/step - loss: 0.4613 - accuracy: 0.8333\n",
            "313/313 [==============================] - 1s 2ms/step - loss: 0.3840 - accuracy: 0.8648\n",
            "313/313 [==============================] - 1s 2ms/step - loss: 0.3613 - accuracy: 0.8685\n",
            "313/313 [==============================] - 1s 2ms/step - loss: 0.3765 - accuracy: 0.8653\n",
            "313/313 [==============================] - 1s 2ms/step - loss: 0.3750 - accuracy: 0.8676\n",
            "313/313 [==============================] - 1s 2ms/step - loss: 0.3845 - accuracy: 0.8638\n",
            "313/313 [==============================] - 1s 2ms/step - loss: 0.9184 - accuracy: 0.6623\n",
            "313/313 [==============================] - 1s 2ms/step - loss: 0.4704 - accuracy: 0.8346\n",
            "313/313 [==============================] - 1s 2ms/step - loss: 0.3891 - accuracy: 0.8617\n",
            "313/313 [==============================] - 1s 2ms/step - loss: 0.3865 - accuracy: 0.8616\n",
            "313/313 [==============================] - 1s 2ms/step - loss: 0.3838 - accuracy: 0.8623\n",
            "313/313 [==============================] - 1s 2ms/step - loss: 0.3781 - accuracy: 0.8697\n",
            "313/313 [==============================] - 1s 2ms/step - loss: 0.3786 - accuracy: 0.8672\n",
            "313/313 [==============================] - 1s 2ms/step - loss: 0.8377 - accuracy: 0.7092\n",
            "313/313 [==============================] - 1s 2ms/step - loss: 0.4637 - accuracy: 0.8351\n",
            "313/313 [==============================] - 1s 2ms/step - loss: 0.3880 - accuracy: 0.8624\n",
            "313/313 [==============================] - 1s 2ms/step - loss: 0.3961 - accuracy: 0.8630\n",
            "313/313 [==============================] - 1s 2ms/step - loss: 0.3757 - accuracy: 0.8649\n",
            "313/313 [==============================] - 1s 2ms/step - loss: 0.3841 - accuracy: 0.8633\n",
            "313/313 [==============================] - 1s 2ms/step - loss: 0.3617 - accuracy: 0.8720\n",
            "313/313 [==============================] - 1s 2ms/step - loss: 0.8875 - accuracy: 0.6524\n",
            "313/313 [==============================] - 1s 2ms/step - loss: 0.4694 - accuracy: 0.8298\n",
            "313/313 [==============================] - 1s 2ms/step - loss: 0.3883 - accuracy: 0.8620\n",
            "313/313 [==============================] - 1s 2ms/step - loss: 0.3662 - accuracy: 0.8696\n",
            "313/313 [==============================] - 1s 2ms/step - loss: 0.3569 - accuracy: 0.8761\n",
            "313/313 [==============================] - 1s 2ms/step - loss: 0.3640 - accuracy: 0.8684\n",
            "313/313 [==============================] - 1s 2ms/step - loss: 0.3820 - accuracy: 0.8672\n"
          ],
          "name": "stdout"
        }
      ]
    },
    {
      "cell_type": "code",
      "metadata": {
        "id": "cPVhdrydK8nX"
      },
      "source": [
        "results_neurons = pd.DataFrame(data=results_neurons)"
      ],
      "execution_count": 16,
      "outputs": []
    },
    {
      "cell_type": "code",
      "metadata": {
        "colab": {
          "base_uri": "https://localhost:8080/",
          "height": 206
        },
        "id": "aFj_2tjYhefr",
        "outputId": "57e990e7-76aa-4260-a228-176375adf07d"
      },
      "source": [
        "results_neurons.head()"
      ],
      "execution_count": 21,
      "outputs": [
        {
          "output_type": "execute_result",
          "data": {
            "text/html": [
              "<div>\n",
              "<style scoped>\n",
              "    .dataframe tbody tr th:only-of-type {\n",
              "        vertical-align: middle;\n",
              "    }\n",
              "\n",
              "    .dataframe tbody tr th {\n",
              "        vertical-align: top;\n",
              "    }\n",
              "\n",
              "    .dataframe thead th {\n",
              "        text-align: right;\n",
              "    }\n",
              "</style>\n",
              "<table border=\"1\" class=\"dataframe\">\n",
              "  <thead>\n",
              "    <tr style=\"text-align: right;\">\n",
              "      <th></th>\n",
              "      <th>neurons</th>\n",
              "      <th>accuracy_tr</th>\n",
              "      <th>accuracy_val</th>\n",
              "    </tr>\n",
              "  </thead>\n",
              "  <tbody>\n",
              "    <tr>\n",
              "      <th>0</th>\n",
              "      <td>2</td>\n",
              "      <td>0.640104</td>\n",
              "      <td>0.638750</td>\n",
              "    </tr>\n",
              "    <tr>\n",
              "      <th>1</th>\n",
              "      <td>10</td>\n",
              "      <td>0.854167</td>\n",
              "      <td>0.848083</td>\n",
              "    </tr>\n",
              "    <tr>\n",
              "      <th>2</th>\n",
              "      <td>50</td>\n",
              "      <td>0.881229</td>\n",
              "      <td>0.875250</td>\n",
              "    </tr>\n",
              "    <tr>\n",
              "      <th>3</th>\n",
              "      <td>100</td>\n",
              "      <td>0.884917</td>\n",
              "      <td>0.871500</td>\n",
              "    </tr>\n",
              "    <tr>\n",
              "      <th>4</th>\n",
              "      <td>150</td>\n",
              "      <td>0.887750</td>\n",
              "      <td>0.869333</td>\n",
              "    </tr>\n",
              "  </tbody>\n",
              "</table>\n",
              "</div>"
            ],
            "text/plain": [
              "   neurons  accuracy_tr  accuracy_val\n",
              "0        2     0.640104      0.638750\n",
              "1       10     0.854167      0.848083\n",
              "2       50     0.881229      0.875250\n",
              "3      100     0.884917      0.871500\n",
              "4      150     0.887750      0.869333"
            ]
          },
          "metadata": {
            "tags": []
          },
          "execution_count": 21
        }
      ]
    },
    {
      "cell_type": "code",
      "metadata": {
        "colab": {
          "base_uri": "https://localhost:8080/",
          "height": 300
        },
        "id": "a5Y1WiS4jDjs",
        "outputId": "814ac84d-23c1-4aac-960e-fa13d6674878"
      },
      "source": [
        "results_neurons.groupby('neurons').mean()[['accuracy_tr']]"
      ],
      "execution_count": 18,
      "outputs": [
        {
          "output_type": "execute_result",
          "data": {
            "text/html": [
              "<div>\n",
              "<style scoped>\n",
              "    .dataframe tbody tr th:only-of-type {\n",
              "        vertical-align: middle;\n",
              "    }\n",
              "\n",
              "    .dataframe tbody tr th {\n",
              "        vertical-align: top;\n",
              "    }\n",
              "\n",
              "    .dataframe thead th {\n",
              "        text-align: right;\n",
              "    }\n",
              "</style>\n",
              "<table border=\"1\" class=\"dataframe\">\n",
              "  <thead>\n",
              "    <tr style=\"text-align: right;\">\n",
              "      <th></th>\n",
              "      <th>accuracy_tr</th>\n",
              "    </tr>\n",
              "    <tr>\n",
              "      <th>neurons</th>\n",
              "      <th></th>\n",
              "    </tr>\n",
              "  </thead>\n",
              "  <tbody>\n",
              "    <tr>\n",
              "      <th>2</th>\n",
              "      <td>0.605500</td>\n",
              "    </tr>\n",
              "    <tr>\n",
              "      <th>10</th>\n",
              "      <td>0.850078</td>\n",
              "    </tr>\n",
              "    <tr>\n",
              "      <th>50</th>\n",
              "      <td>0.880335</td>\n",
              "    </tr>\n",
              "    <tr>\n",
              "      <th>100</th>\n",
              "      <td>0.885854</td>\n",
              "    </tr>\n",
              "    <tr>\n",
              "      <th>150</th>\n",
              "      <td>0.888119</td>\n",
              "    </tr>\n",
              "    <tr>\n",
              "      <th>300</th>\n",
              "      <td>0.890468</td>\n",
              "    </tr>\n",
              "    <tr>\n",
              "      <th>700</th>\n",
              "      <td>0.891136</td>\n",
              "    </tr>\n",
              "  </tbody>\n",
              "</table>\n",
              "</div>"
            ],
            "text/plain": [
              "         accuracy_tr\n",
              "neurons             \n",
              "2           0.605500\n",
              "10          0.850078\n",
              "50          0.880335\n",
              "100         0.885854\n",
              "150         0.888119\n",
              "300         0.890468\n",
              "700         0.891136"
            ]
          },
          "metadata": {
            "tags": []
          },
          "execution_count": 18
        }
      ]
    },
    {
      "cell_type": "code",
      "metadata": {
        "colab": {
          "base_uri": "https://localhost:8080/",
          "height": 300
        },
        "id": "jy582hiHjRuS",
        "outputId": "a1546eb6-012f-485d-fbbc-afcbb619c930"
      },
      "source": [
        "results_neurons.groupby('neurons').mean()[['accuracy_val']]"
      ],
      "execution_count": 19,
      "outputs": [
        {
          "output_type": "execute_result",
          "data": {
            "text/html": [
              "<div>\n",
              "<style scoped>\n",
              "    .dataframe tbody tr th:only-of-type {\n",
              "        vertical-align: middle;\n",
              "    }\n",
              "\n",
              "    .dataframe tbody tr th {\n",
              "        vertical-align: top;\n",
              "    }\n",
              "\n",
              "    .dataframe thead th {\n",
              "        text-align: right;\n",
              "    }\n",
              "</style>\n",
              "<table border=\"1\" class=\"dataframe\">\n",
              "  <thead>\n",
              "    <tr style=\"text-align: right;\">\n",
              "      <th></th>\n",
              "      <th>accuracy_val</th>\n",
              "    </tr>\n",
              "    <tr>\n",
              "      <th>neurons</th>\n",
              "      <th></th>\n",
              "    </tr>\n",
              "  </thead>\n",
              "  <tbody>\n",
              "    <tr>\n",
              "      <th>2</th>\n",
              "      <td>0.610886</td>\n",
              "    </tr>\n",
              "    <tr>\n",
              "      <th>10</th>\n",
              "      <td>0.842341</td>\n",
              "    </tr>\n",
              "    <tr>\n",
              "      <th>50</th>\n",
              "      <td>0.869167</td>\n",
              "    </tr>\n",
              "    <tr>\n",
              "      <th>100</th>\n",
              "      <td>0.873136</td>\n",
              "    </tr>\n",
              "    <tr>\n",
              "      <th>150</th>\n",
              "      <td>0.873939</td>\n",
              "    </tr>\n",
              "    <tr>\n",
              "      <th>300</th>\n",
              "      <td>0.873621</td>\n",
              "    </tr>\n",
              "    <tr>\n",
              "      <th>700</th>\n",
              "      <td>0.876492</td>\n",
              "    </tr>\n",
              "  </tbody>\n",
              "</table>\n",
              "</div>"
            ],
            "text/plain": [
              "         accuracy_val\n",
              "neurons              \n",
              "2            0.610886\n",
              "10           0.842341\n",
              "50           0.869167\n",
              "100          0.873136\n",
              "150          0.873939\n",
              "300          0.873621\n",
              "700          0.876492"
            ]
          },
          "metadata": {
            "tags": []
          },
          "execution_count": 19
        }
      ]
    },
    {
      "cell_type": "markdown",
      "metadata": {
        "id": "0naexWknbvnN"
      },
      "source": [
        "**числа слоев (2, 3, 5, 10) при близких размерах сети (близкое число тренируемых парметров)**"
      ]
    },
    {
      "cell_type": "code",
      "metadata": {
        "id": "z8e-B_m5cJY7"
      },
      "source": [
        "results_layers =  {\n",
        "    'layers': [],\n",
        "    'accuracy_tr': [],\n",
        "    'accuracy_val': []\n",
        "    }"
      ],
      "execution_count": 25,
      "outputs": []
    },
    {
      "cell_type": "code",
      "metadata": {
        "colab": {
          "base_uri": "https://localhost:8080/"
        },
        "id": "GB-J1dADcvzf",
        "outputId": "72b1685b-a05b-4976-af56-d5052f0538aa"
      },
      "source": [
        "#2 слоя\n",
        "\n",
        "\n",
        "for i in range (11):\n",
        "  model = Sequential([\n",
        "    Dense(100, activation='relu', input_shape=(784,)),\n",
        "    Dense(10, activation='softmax'),\n",
        "  ])\n",
        "\n",
        "  model.compile(\n",
        "  optimizer='adam',\n",
        "  loss='categorical_crossentropy',\n",
        "  metrics=['accuracy'],\n",
        "  )\n",
        "\n",
        "  hh = model.fit(\n",
        "  train_images,\n",
        "  to_categorical(train_labels),\n",
        "  epochs=5,\n",
        "  batch_size=32, validation_split=0.2, verbose = 0\n",
        "  )\n",
        "\n",
        "  model.evaluate(\n",
        "  test_images,\n",
        "  to_categorical(test_labels)\n",
        "  ) \n",
        "\n",
        "  results_layers['layers'].append(2)\n",
        "  results_layers['accuracy_tr'].append(hh.history['accuracy'][-1])\n",
        "  results_layers['accuracy_val'].append(hh.history['val_accuracy'][-1])\n",
        "\n",
        "\n",
        "model.summary()"
      ],
      "execution_count": 26,
      "outputs": [
        {
          "output_type": "stream",
          "text": [
            "313/313 [==============================] - 1s 2ms/step - loss: 0.4002 - accuracy: 0.8573\n",
            "313/313 [==============================] - 1s 2ms/step - loss: 0.4005 - accuracy: 0.8578\n",
            "313/313 [==============================] - 1s 2ms/step - loss: 0.3701 - accuracy: 0.8690\n",
            "313/313 [==============================] - 1s 2ms/step - loss: 0.3717 - accuracy: 0.8701\n",
            "313/313 [==============================] - 1s 2ms/step - loss: 0.3626 - accuracy: 0.8688\n",
            "313/313 [==============================] - 1s 2ms/step - loss: 0.3871 - accuracy: 0.8658\n",
            "313/313 [==============================] - 1s 2ms/step - loss: 0.3828 - accuracy: 0.8651\n",
            "313/313 [==============================] - 1s 2ms/step - loss: 0.3661 - accuracy: 0.8716\n",
            "313/313 [==============================] - 1s 2ms/step - loss: 0.3913 - accuracy: 0.8594\n",
            "313/313 [==============================] - 1s 2ms/step - loss: 0.3923 - accuracy: 0.8645\n",
            "313/313 [==============================] - 1s 2ms/step - loss: 0.4075 - accuracy: 0.8555\n",
            "Model: \"sequential_12\"\n",
            "_________________________________________________________________\n",
            "Layer (type)                 Output Shape              Param #   \n",
            "=================================================================\n",
            "dense_180 (Dense)            (None, 100)               78500     \n",
            "_________________________________________________________________\n",
            "dense_181 (Dense)            (None, 10)                1010      \n",
            "=================================================================\n",
            "Total params: 79,510\n",
            "Trainable params: 79,510\n",
            "Non-trainable params: 0\n",
            "_________________________________________________________________\n"
          ],
          "name": "stdout"
        }
      ]
    },
    {
      "cell_type": "code",
      "metadata": {
        "colab": {
          "base_uri": "https://localhost:8080/"
        },
        "id": "YRxUx0s7cv2D",
        "outputId": "e39ac1e1-2770-4031-e86e-e2190d085c44"
      },
      "source": [
        "#3\n",
        "\n",
        "for i in range(11):\n",
        "  model = Sequential([\n",
        "    Dense(90, activation='relu', input_shape=(784,)),\n",
        "    Dense(90, activation='relu'),\n",
        "    Dense(10, activation='softmax'),\n",
        "  ])\n",
        "\n",
        "  model.compile(\n",
        "  optimizer='adam',\n",
        "  loss='categorical_crossentropy',\n",
        "  metrics=['accuracy'],\n",
        "  )\n",
        "\n",
        "  hh = model.fit(\n",
        "  train_images,\n",
        "  to_categorical(train_labels),\n",
        "  epochs=5,\n",
        "  batch_size=32, validation_split=0.2, verbose = 0\n",
        "  )\n",
        "\n",
        "  model.evaluate(\n",
        "  test_images,\n",
        "  to_categorical(test_labels)\n",
        "  ) \n",
        "\n",
        "  results_layers['layers'].append(3)\n",
        "  results_layers['accuracy_tr'].append(hh.history['accuracy'][-1])\n",
        "  results_layers['accuracy_val'].append(hh.history['val_accuracy'][-1])\n",
        "\n",
        "\n",
        "model.summary()"
      ],
      "execution_count": 27,
      "outputs": [
        {
          "output_type": "stream",
          "text": [
            "313/313 [==============================] - 1s 2ms/step - loss: 0.3822 - accuracy: 0.8659\n",
            "313/313 [==============================] - 1s 2ms/step - loss: 0.4089 - accuracy: 0.8587\n",
            "313/313 [==============================] - 1s 2ms/step - loss: 0.3632 - accuracy: 0.8715\n",
            "313/313 [==============================] - 1s 2ms/step - loss: 0.3876 - accuracy: 0.8613\n",
            "313/313 [==============================] - 1s 2ms/step - loss: 0.4016 - accuracy: 0.8536\n",
            "313/313 [==============================] - 1s 2ms/step - loss: 0.3692 - accuracy: 0.8709\n",
            "313/313 [==============================] - 1s 2ms/step - loss: 0.3794 - accuracy: 0.8601\n",
            "313/313 [==============================] - 1s 2ms/step - loss: 0.3749 - accuracy: 0.8632\n",
            "313/313 [==============================] - 1s 2ms/step - loss: 0.3732 - accuracy: 0.8652\n",
            "313/313 [==============================] - 1s 2ms/step - loss: 0.3576 - accuracy: 0.8716\n",
            "313/313 [==============================] - 1s 2ms/step - loss: 0.3601 - accuracy: 0.8732\n",
            "Model: \"sequential_23\"\n",
            "_________________________________________________________________\n",
            "Layer (type)                 Output Shape              Param #   \n",
            "=================================================================\n",
            "dense_212 (Dense)            (None, 90)                70650     \n",
            "_________________________________________________________________\n",
            "dense_213 (Dense)            (None, 90)                8190      \n",
            "_________________________________________________________________\n",
            "dense_214 (Dense)            (None, 10)                910       \n",
            "=================================================================\n",
            "Total params: 79,750\n",
            "Trainable params: 79,750\n",
            "Non-trainable params: 0\n",
            "_________________________________________________________________\n"
          ],
          "name": "stdout"
        }
      ]
    },
    {
      "cell_type": "code",
      "metadata": {
        "colab": {
          "base_uri": "https://localhost:8080/"
        },
        "id": "0XbXcMK3cv4u",
        "outputId": "bc6ba701-75be-423b-af32-668abc1fd265"
      },
      "source": [
        "#5\n",
        "\n",
        "for i in range(11):\n",
        "  model = Sequential([\n",
        "    Dense(80, activation='relu', input_shape=(784,)),\n",
        "    Dense(80, activation='relu'),\n",
        "    Dense(80, activation='relu'),\n",
        "    Dense(80, activation='relu'),\n",
        "    Dense(10, activation='softmax'),\n",
        "  ])\n",
        "\n",
        "  model.compile(\n",
        "  optimizer='adam',\n",
        "  loss='categorical_crossentropy',\n",
        "  metrics=['accuracy'],\n",
        "  )\n",
        "\n",
        "  hh = model.fit(\n",
        "  train_images,\n",
        "  to_categorical(train_labels),\n",
        "  epochs=5,\n",
        "  batch_size=32, validation_split=0.2, verbose = 0\n",
        "  )\n",
        "\n",
        "  model.evaluate(\n",
        "  test_images,\n",
        "  to_categorical(test_labels)\n",
        "  ) \n",
        "\n",
        "  results_layers['layers'].append(5)\n",
        "  results_layers['accuracy_tr'].append(hh.history['accuracy'][-1])\n",
        "  results_layers['accuracy_val'].append(hh.history['val_accuracy'][-1])\n",
        "\n",
        "\n",
        "model.summary()"
      ],
      "execution_count": 28,
      "outputs": [
        {
          "output_type": "stream",
          "text": [
            "313/313 [==============================] - 1s 3ms/step - loss: 0.3797 - accuracy: 0.8637\n",
            "313/313 [==============================] - 1s 2ms/step - loss: 0.3854 - accuracy: 0.8616\n",
            "313/313 [==============================] - 1s 2ms/step - loss: 0.3844 - accuracy: 0.8632\n",
            "313/313 [==============================] - 1s 2ms/step - loss: 0.3825 - accuracy: 0.8612\n",
            "313/313 [==============================] - 1s 2ms/step - loss: 0.3724 - accuracy: 0.8684\n",
            "313/313 [==============================] - 1s 2ms/step - loss: 0.3842 - accuracy: 0.8596\n",
            "313/313 [==============================] - 1s 2ms/step - loss: 0.3770 - accuracy: 0.8648\n",
            "313/313 [==============================] - 1s 2ms/step - loss: 0.3744 - accuracy: 0.8632\n",
            "313/313 [==============================] - 1s 2ms/step - loss: 0.3853 - accuracy: 0.8644\n",
            "313/313 [==============================] - 1s 2ms/step - loss: 0.3882 - accuracy: 0.8667\n",
            "313/313 [==============================] - 1s 2ms/step - loss: 0.3813 - accuracy: 0.8651\n",
            "Model: \"sequential_34\"\n",
            "_________________________________________________________________\n",
            "Layer (type)                 Output Shape              Param #   \n",
            "=================================================================\n",
            "dense_265 (Dense)            (None, 80)                62800     \n",
            "_________________________________________________________________\n",
            "dense_266 (Dense)            (None, 80)                6480      \n",
            "_________________________________________________________________\n",
            "dense_267 (Dense)            (None, 80)                6480      \n",
            "_________________________________________________________________\n",
            "dense_268 (Dense)            (None, 80)                6480      \n",
            "_________________________________________________________________\n",
            "dense_269 (Dense)            (None, 10)                810       \n",
            "=================================================================\n",
            "Total params: 83,050\n",
            "Trainable params: 83,050\n",
            "Non-trainable params: 0\n",
            "_________________________________________________________________\n"
          ],
          "name": "stdout"
        }
      ]
    },
    {
      "cell_type": "code",
      "metadata": {
        "colab": {
          "base_uri": "https://localhost:8080/"
        },
        "id": "79GnaWQGcv7j",
        "outputId": "6b0addeb-cd7a-4a39-fa59-013ca4f98aee"
      },
      "source": [
        "#10\n",
        "\n",
        "for i in range(11):\n",
        "  model = Sequential([\n",
        "    Dense(60, activation='relu', input_shape=(784,)),\n",
        "    Dense(60, activation='relu'),\n",
        "    Dense(60, activation='relu'),\n",
        "    Dense(60, activation='relu'),\n",
        "    Dense(60, activation='relu'),\n",
        "    Dense(60, activation='relu'),\n",
        "    Dense(60, activation='relu'),\n",
        "    Dense(60, activation='relu'),\n",
        "    Dense(60, activation='relu'),\n",
        "    Dense(10, activation='softmax'),\n",
        "  ])\n",
        "\n",
        "  model.compile(\n",
        "  optimizer='adam',\n",
        "  loss='categorical_crossentropy',\n",
        "  metrics=['accuracy'],\n",
        "  )\n",
        "\n",
        "  hh = model.fit(\n",
        "  train_images,\n",
        "  to_categorical(train_labels),\n",
        "  epochs=5,\n",
        "  batch_size=32, validation_split=0.2, verbose = 0\n",
        "  )\n",
        "\n",
        "  model.evaluate(\n",
        "  test_images,\n",
        "  to_categorical(test_labels)\n",
        "  ) \n",
        "\n",
        "  results_layers['layers'].append(10)\n",
        "  results_layers['accuracy_tr'].append(hh.history['accuracy'][-1])\n",
        "  results_layers['accuracy_val'].append(hh.history['val_accuracy'][-1])\n",
        "\n",
        "\n",
        "model.summary()"
      ],
      "execution_count": 29,
      "outputs": [
        {
          "output_type": "stream",
          "text": [
            "313/313 [==============================] - 1s 2ms/step - loss: 0.4252 - accuracy: 0.8520\n",
            "313/313 [==============================] - 1s 2ms/step - loss: 0.4446 - accuracy: 0.8442\n",
            "313/313 [==============================] - 1s 2ms/step - loss: 0.3932 - accuracy: 0.8618\n",
            "313/313 [==============================] - 1s 2ms/step - loss: 0.4362 - accuracy: 0.8528\n",
            "313/313 [==============================] - 1s 2ms/step - loss: 0.4143 - accuracy: 0.8538\n",
            "313/313 [==============================] - 1s 2ms/step - loss: 0.4064 - accuracy: 0.8578\n",
            "313/313 [==============================] - 1s 2ms/step - loss: 0.3962 - accuracy: 0.8599\n",
            "313/313 [==============================] - 1s 2ms/step - loss: 0.3968 - accuracy: 0.8577\n",
            "313/313 [==============================] - 1s 2ms/step - loss: 0.4028 - accuracy: 0.8553\n",
            "313/313 [==============================] - 1s 2ms/step - loss: 0.4775 - accuracy: 0.8348\n",
            "313/313 [==============================] - 1s 2ms/step - loss: 0.3997 - accuracy: 0.8574\n",
            "Model: \"sequential_45\"\n",
            "_________________________________________________________________\n",
            "Layer (type)                 Output Shape              Param #   \n",
            "=================================================================\n",
            "dense_370 (Dense)            (None, 60)                47100     \n",
            "_________________________________________________________________\n",
            "dense_371 (Dense)            (None, 60)                3660      \n",
            "_________________________________________________________________\n",
            "dense_372 (Dense)            (None, 60)                3660      \n",
            "_________________________________________________________________\n",
            "dense_373 (Dense)            (None, 60)                3660      \n",
            "_________________________________________________________________\n",
            "dense_374 (Dense)            (None, 60)                3660      \n",
            "_________________________________________________________________\n",
            "dense_375 (Dense)            (None, 60)                3660      \n",
            "_________________________________________________________________\n",
            "dense_376 (Dense)            (None, 60)                3660      \n",
            "_________________________________________________________________\n",
            "dense_377 (Dense)            (None, 60)                3660      \n",
            "_________________________________________________________________\n",
            "dense_378 (Dense)            (None, 60)                3660      \n",
            "_________________________________________________________________\n",
            "dense_379 (Dense)            (None, 10)                610       \n",
            "=================================================================\n",
            "Total params: 76,990\n",
            "Trainable params: 76,990\n",
            "Non-trainable params: 0\n",
            "_________________________________________________________________\n"
          ],
          "name": "stdout"
        }
      ]
    },
    {
      "cell_type": "code",
      "metadata": {
        "id": "jChgjxg-cv-L"
      },
      "source": [
        "results_layers = pd.DataFrame(data=results_layers)"
      ],
      "execution_count": 30,
      "outputs": []
    },
    {
      "cell_type": "code",
      "metadata": {
        "colab": {
          "base_uri": "https://localhost:8080/",
          "height": 206
        },
        "id": "SXsLSvluhDVo",
        "outputId": "b7a218e7-cd24-47a8-f44d-d0edf54899d6"
      },
      "source": [
        "results_layers.head()"
      ],
      "execution_count": 31,
      "outputs": [
        {
          "output_type": "execute_result",
          "data": {
            "text/html": [
              "<div>\n",
              "<style scoped>\n",
              "    .dataframe tbody tr th:only-of-type {\n",
              "        vertical-align: middle;\n",
              "    }\n",
              "\n",
              "    .dataframe tbody tr th {\n",
              "        vertical-align: top;\n",
              "    }\n",
              "\n",
              "    .dataframe thead th {\n",
              "        text-align: right;\n",
              "    }\n",
              "</style>\n",
              "<table border=\"1\" class=\"dataframe\">\n",
              "  <thead>\n",
              "    <tr style=\"text-align: right;\">\n",
              "      <th></th>\n",
              "      <th>layers</th>\n",
              "      <th>accuracy_tr</th>\n",
              "      <th>accuracy_val</th>\n",
              "    </tr>\n",
              "  </thead>\n",
              "  <tbody>\n",
              "    <tr>\n",
              "      <th>0</th>\n",
              "      <td>2</td>\n",
              "      <td>0.885646</td>\n",
              "      <td>0.862833</td>\n",
              "    </tr>\n",
              "    <tr>\n",
              "      <th>1</th>\n",
              "      <td>2</td>\n",
              "      <td>0.884292</td>\n",
              "      <td>0.863167</td>\n",
              "    </tr>\n",
              "    <tr>\n",
              "      <th>2</th>\n",
              "      <td>2</td>\n",
              "      <td>0.886771</td>\n",
              "      <td>0.878750</td>\n",
              "    </tr>\n",
              "    <tr>\n",
              "      <th>3</th>\n",
              "      <td>2</td>\n",
              "      <td>0.885979</td>\n",
              "      <td>0.875250</td>\n",
              "    </tr>\n",
              "    <tr>\n",
              "      <th>4</th>\n",
              "      <td>2</td>\n",
              "      <td>0.886625</td>\n",
              "      <td>0.878167</td>\n",
              "    </tr>\n",
              "  </tbody>\n",
              "</table>\n",
              "</div>"
            ],
            "text/plain": [
              "   layers  accuracy_tr  accuracy_val\n",
              "0       2     0.885646      0.862833\n",
              "1       2     0.884292      0.863167\n",
              "2       2     0.886771      0.878750\n",
              "3       2     0.885979      0.875250\n",
              "4       2     0.886625      0.878167"
            ]
          },
          "metadata": {
            "tags": []
          },
          "execution_count": 31
        }
      ]
    },
    {
      "cell_type": "code",
      "metadata": {
        "colab": {
          "base_uri": "https://localhost:8080/",
          "height": 206
        },
        "id": "jukxif_ushxv",
        "outputId": "9bee4cf8-17bd-48a4-b2c7-1779b2238aa5"
      },
      "source": [
        "results_layers.groupby('layers').mean()[['accuracy_tr']]"
      ],
      "execution_count": 33,
      "outputs": [
        {
          "output_type": "execute_result",
          "data": {
            "text/html": [
              "<div>\n",
              "<style scoped>\n",
              "    .dataframe tbody tr th:only-of-type {\n",
              "        vertical-align: middle;\n",
              "    }\n",
              "\n",
              "    .dataframe tbody tr th {\n",
              "        vertical-align: top;\n",
              "    }\n",
              "\n",
              "    .dataframe thead th {\n",
              "        text-align: right;\n",
              "    }\n",
              "</style>\n",
              "<table border=\"1\" class=\"dataframe\">\n",
              "  <thead>\n",
              "    <tr style=\"text-align: right;\">\n",
              "      <th></th>\n",
              "      <th>accuracy_tr</th>\n",
              "    </tr>\n",
              "    <tr>\n",
              "      <th>layers</th>\n",
              "      <th></th>\n",
              "    </tr>\n",
              "  </thead>\n",
              "  <tbody>\n",
              "    <tr>\n",
              "      <th>2</th>\n",
              "      <td>0.886066</td>\n",
              "    </tr>\n",
              "    <tr>\n",
              "      <th>3</th>\n",
              "      <td>0.885828</td>\n",
              "    </tr>\n",
              "    <tr>\n",
              "      <th>5</th>\n",
              "      <td>0.882598</td>\n",
              "    </tr>\n",
              "    <tr>\n",
              "      <th>10</th>\n",
              "      <td>0.871167</td>\n",
              "    </tr>\n",
              "  </tbody>\n",
              "</table>\n",
              "</div>"
            ],
            "text/plain": [
              "        accuracy_tr\n",
              "layers             \n",
              "2          0.886066\n",
              "3          0.885828\n",
              "5          0.882598\n",
              "10         0.871167"
            ]
          },
          "metadata": {
            "tags": []
          },
          "execution_count": 33
        }
      ]
    },
    {
      "cell_type": "code",
      "metadata": {
        "colab": {
          "base_uri": "https://localhost:8080/",
          "height": 206
        },
        "id": "Wrg21yvsso1X",
        "outputId": "4cca47bd-5b42-4438-e341-94c2d077a58c"
      },
      "source": [
        "results_layers.groupby('layers').mean()[['accuracy_val']]"
      ],
      "execution_count": 34,
      "outputs": [
        {
          "output_type": "execute_result",
          "data": {
            "text/html": [
              "<div>\n",
              "<style scoped>\n",
              "    .dataframe tbody tr th:only-of-type {\n",
              "        vertical-align: middle;\n",
              "    }\n",
              "\n",
              "    .dataframe tbody tr th {\n",
              "        vertical-align: top;\n",
              "    }\n",
              "\n",
              "    .dataframe thead th {\n",
              "        text-align: right;\n",
              "    }\n",
              "</style>\n",
              "<table border=\"1\" class=\"dataframe\">\n",
              "  <thead>\n",
              "    <tr style=\"text-align: right;\">\n",
              "      <th></th>\n",
              "      <th>accuracy_val</th>\n",
              "    </tr>\n",
              "    <tr>\n",
              "      <th>layers</th>\n",
              "      <th></th>\n",
              "    </tr>\n",
              "  </thead>\n",
              "  <tbody>\n",
              "    <tr>\n",
              "      <th>2</th>\n",
              "      <td>0.871424</td>\n",
              "    </tr>\n",
              "    <tr>\n",
              "      <th>3</th>\n",
              "      <td>0.873591</td>\n",
              "    </tr>\n",
              "    <tr>\n",
              "      <th>5</th>\n",
              "      <td>0.871856</td>\n",
              "    </tr>\n",
              "    <tr>\n",
              "      <th>10</th>\n",
              "      <td>0.862742</td>\n",
              "    </tr>\n",
              "  </tbody>\n",
              "</table>\n",
              "</div>"
            ],
            "text/plain": [
              "        accuracy_val\n",
              "layers              \n",
              "2           0.871424\n",
              "3           0.873591\n",
              "5           0.871856\n",
              "10          0.862742"
            ]
          },
          "metadata": {
            "tags": []
          },
          "execution_count": 34
        }
      ]
    },
    {
      "cell_type": "markdown",
      "metadata": {
        "id": "S7roqrCMh0us"
      },
      "source": [
        "**Проверьте работу разных оптимизаторов (SGD, Adam, RMSProp) для одной из моделей п.1.Фиксируйте для тренировочного и тестового набора метрики accuracy.**"
      ]
    },
    {
      "cell_type": "code",
      "metadata": {
        "id": "Tzo5Ufeek_pb"
      },
      "source": [
        "results_optim =  {\n",
        "    'optim': [],\n",
        "    'accuracy_tr': [],\n",
        "    'accuracy_val': []\n",
        "    }"
      ],
      "execution_count": 35,
      "outputs": []
    },
    {
      "cell_type": "code",
      "metadata": {
        "colab": {
          "base_uri": "https://localhost:8080/",
          "height": 458
        },
        "id": "e37I-1qth4vU",
        "outputId": "e7f8e284-dac6-45ce-86c2-829059ebffa0"
      },
      "source": [
        "# создаем модель model\n",
        "model = Sequential([\n",
        "  Dense(90, activation='relu', input_shape=(784,)),\n",
        "  Dense(90, activation='relu'),\n",
        "  Dense(10, activation='softmax'),\n",
        "])\n",
        "# сохраняем ее веса (это начальная точка) model.save_weights('model.h5')\n",
        "model.save_weights('model.h5')\n",
        "\n",
        "plt.figure(figsize=(16,7))\n",
        "\n",
        "# число рабочих эпох\n",
        "epochs = 20\n",
        "# вектор для выводв результатов\n",
        "epoch = np.arange(epochs+1)\n",
        "\n",
        "# будем изменять оптимизаторы\n",
        "\n",
        "for i_optim in [keras.optimizers.RMSprop(),keras.optimizers.SGD(),keras.optimizers.Adam(),keras.optimizers.Nadam()]:\n",
        "  # создаем рабочую модель modeli куда будем загружать эти вес (она должна быть идентичной структуры)\n",
        "  modeli = Sequential([\n",
        "    Dense(90, activation='relu', input_shape=(784,)),\n",
        "    Dense(90, activation='relu'),\n",
        "    Dense(10, activation='softmax'),\n",
        "  ])\n",
        "  # загружаем веса modeli.load_weights('model.h5')\n",
        "  modeli.load_weights('model.h5')\n",
        "  # компилируем modeli с одним из оптимизаторов\n",
        "  modeli.compile(\n",
        "      optimizer=i_optim,\n",
        "      loss='categorical_crossentropy',\n",
        "      metrics=['accuracy'],\n",
        "      )\n",
        "  # вычисляем ошибку для modeli без обучения\n",
        "  hh0_tr = modeli.evaluate(  train_images[:48000,:], to_categorical(train_labels[:48000]),verbose = 0)\n",
        "  hh0_val = modeli.evaluate(  train_images[48000:,:], to_categorical(train_labels[48000:]),verbose = 0)\n",
        "  # проводим обучение модели \n",
        "  hh = modeli.fit(\n",
        "  train_images,\n",
        "  to_categorical(train_labels),\n",
        "  epochs=epochs,\n",
        "  batch_size=32, validation_split=0.2, verbose = 0\n",
        "  )\n",
        "\n",
        "  results_optim['optim'].append(i_optim)\n",
        "  results_optim['accuracy_tr'].append(hh.history['accuracy'][-1])\n",
        "  results_optim['accuracy_val'].append(hh.history['val_accuracy'][-1])\n",
        "\n",
        "  # картинки\n",
        "  plt.plot(epoch,np.log([hh0_tr[0]]+hh.history['loss']),'-',label = modeli.optimizer.get_config()['name']+' train')\n",
        "  plt.plot(epoch,np.log([hh0_val[0]]+hh.history['val_loss']),'--',label = modeli.optimizer.get_config()['name']+' val')\n",
        "\n",
        "\n",
        "plt.legend()\n",
        "plt.grid('On')\n",
        "\n",
        "plt.title('нейросети от оптимизатора log(loss)')\n",
        "plt.xlabel('epoch')\n",
        "plt.ylabel('log(loss)')\n",
        "plt.show()"
      ],
      "execution_count": 42,
      "outputs": [
        {
          "output_type": "display_data",
          "data": {
            "image/png": "[encoded data removed]",
            "text/plain": [
              "<Figure size 1152x504 with 1 Axes>"
            ]
          },
          "metadata": {
            "tags": [],
            "needs_background": "light"
          }
        }
      ]
    },
    {
      "cell_type": "code",
      "metadata": {
        "id": "A-TY04lyl3-t"
      },
      "source": [
        "results_optim = pd.DataFrame(data=results_optim).sort_values('accuracy_val', ascending=False)"
      ],
      "execution_count": 44,
      "outputs": []
    },
    {
      "cell_type": "code",
      "metadata": {
        "colab": {
          "base_uri": "https://localhost:8080/",
          "height": 206
        },
        "id": "hYeVy4fbl9VS",
        "outputId": "a346d77c-1edc-4664-c630-6400085bd558"
      },
      "source": [
        "results_optim.head()"
      ],
      "execution_count": 45,
      "outputs": [
        {
          "output_type": "execute_result",
          "data": {
            "text/html": [
              "<div>\n",
              "<style scoped>\n",
              "    .dataframe tbody tr th:only-of-type {\n",
              "        vertical-align: middle;\n",
              "    }\n",
              "\n",
              "    .dataframe tbody tr th {\n",
              "        vertical-align: top;\n",
              "    }\n",
              "\n",
              "    .dataframe thead th {\n",
              "        text-align: right;\n",
              "    }\n",
              "</style>\n",
              "<table border=\"1\" class=\"dataframe\">\n",
              "  <thead>\n",
              "    <tr style=\"text-align: right;\">\n",
              "      <th></th>\n",
              "      <th>optim</th>\n",
              "      <th>accuracy_tr</th>\n",
              "      <th>accuracy_val</th>\n",
              "    </tr>\n",
              "  </thead>\n",
              "  <tbody>\n",
              "    <tr>\n",
              "      <th>7</th>\n",
              "      <td>&lt;tensorflow.python.keras.optimizer_v2.nadam.Na...</td>\n",
              "      <td>0.935458</td>\n",
              "      <td>0.890500</td>\n",
              "    </tr>\n",
              "    <tr>\n",
              "      <th>19</th>\n",
              "      <td>&lt;tensorflow.python.keras.optimizer_v2.adam.Ada...</td>\n",
              "      <td>0.933771</td>\n",
              "      <td>0.888833</td>\n",
              "    </tr>\n",
              "    <tr>\n",
              "      <th>10</th>\n",
              "      <td>&lt;tensorflow.python.keras.optimizer_v2.adam.Ada...</td>\n",
              "      <td>0.935458</td>\n",
              "      <td>0.887917</td>\n",
              "    </tr>\n",
              "    <tr>\n",
              "      <th>15</th>\n",
              "      <td>&lt;tensorflow.python.keras.optimizer_v2.nadam.Na...</td>\n",
              "      <td>0.936437</td>\n",
              "      <td>0.886833</td>\n",
              "    </tr>\n",
              "    <tr>\n",
              "      <th>20</th>\n",
              "      <td>&lt;tensorflow.python.keras.optimizer_v2.nadam.Na...</td>\n",
              "      <td>0.934667</td>\n",
              "      <td>0.885750</td>\n",
              "    </tr>\n",
              "  </tbody>\n",
              "</table>\n",
              "</div>"
            ],
            "text/plain": [
              "                                                optim  ...  accuracy_val\n",
              "7   <tensorflow.python.keras.optimizer_v2.nadam.Na...  ...      0.890500\n",
              "19  <tensorflow.python.keras.optimizer_v2.adam.Ada...  ...      0.888833\n",
              "10  <tensorflow.python.keras.optimizer_v2.adam.Ada...  ...      0.887917\n",
              "15  <tensorflow.python.keras.optimizer_v2.nadam.Na...  ...      0.886833\n",
              "20  <tensorflow.python.keras.optimizer_v2.nadam.Na...  ...      0.885750\n",
              "\n",
              "[5 rows x 3 columns]"
            ]
          },
          "metadata": {
            "tags": []
          },
          "execution_count": 45
        }
      ]
    },
    {
      "cell_type": "markdown",
      "metadata": {
        "id": "ivOIoXG7mL1p"
      },
      "source": [
        "**Сделайте вывод - что помогло вам улучшить качество классификации в нейросети на тестовом наборе?**"
      ]
    },
    {
      "cell_type": "markdown",
      "metadata": {
        "id": "Xg7tjCWUmVKu"
      },
      "source": [
        "Начали мы с бэйзлайна при числе нейронов в 128 и количестве слоев = 2. Промежуточный набор параметров со средним результатом 0.873591 оказался таким: нейронов = 90, слоев = 3, оптимизация = adam. На последнем шаге мы просмотрели варианты оптимизации + увеличели количество эпох и получили максимальный результат на тесте 0.890500. На улучшение результата повлиял оптимизатор и увеличение количества эпох. "
      ]
    },
    {
      "cell_type": "markdown",
      "metadata": {
        "id": "0Zz8vwJIqxd2"
      },
      "source": [
        "**Для одного варианта сетей сформируйте матрицу ошибок по классам. Оцените качество модели по каждому классу отдельно (полнота , точность)**"
      ]
    },
    {
      "cell_type": "code",
      "metadata": {
        "colab": {
          "base_uri": "https://localhost:8080/"
        },
        "id": "Om7vFtOzxqSs",
        "outputId": "5226b949-0acc-46eb-aaf6-4a4293c0b149"
      },
      "source": [
        "model = Sequential([\n",
        "  Dense(90, activation='relu', input_shape=(784,)),\n",
        "  Dense(90, activation='relu'),\n",
        "  Dense(10, activation='softmax'),\n",
        "])\n",
        "\n",
        "model.compile(\n",
        "optimizer='Nadam',\n",
        "loss='categorical_crossentropy',\n",
        "metrics=['accuracy'],\n",
        ")\n",
        "\n",
        "model.fit(\n",
        "train_images,\n",
        "to_categorical(train_labels),\n",
        "epochs=20,\n",
        "batch_size=32, validation_split=0.2, verbose = 0\n",
        ")\n",
        "\n",
        "model.evaluate(\n",
        "test_images,\n",
        "to_categorical(test_labels)\n",
        ") "
      ],
      "execution_count": 46,
      "outputs": [
        {
          "output_type": "stream",
          "text": [
            "313/313 [==============================] - 1s 2ms/step - loss: 0.4200 - accuracy: 0.8769\n"
          ],
          "name": "stdout"
        },
        {
          "output_type": "execute_result",
          "data": {
            "text/plain": [
              "[0.41999033093452454, 0.8769000172615051]"
            ]
          },
          "metadata": {
            "tags": []
          },
          "execution_count": 46
        }
      ]
    },
    {
      "cell_type": "code",
      "metadata": {
        "id": "B8RTWYecghw3"
      },
      "source": [
        "from sklearn.metrics import confusion_matrix, ConfusionMatrixDisplay\n",
        "import tensorflow as tf"
      ],
      "execution_count": 50,
      "outputs": []
    },
    {
      "cell_type": "code",
      "metadata": {
        "id": "Wg44xHwf7jjX"
      },
      "source": [
        "probability_model = tf.keras.Sequential([model, \n",
        "                                         tf.keras.layers.Softmax()])"
      ],
      "execution_count": 51,
      "outputs": []
    },
    {
      "cell_type": "code",
      "metadata": {
        "colab": {
          "base_uri": "https://localhost:8080/"
        },
        "id": "SXvdSaxXgjEk",
        "outputId": "224c172d-45a9-4882-d5ab-e336e0acfe22"
      },
      "source": [
        "y_pred = np.argmax(probability_model.predict(test_images), axis=1)\n",
        "y_pred[:10]"
      ],
      "execution_count": 52,
      "outputs": [
        {
          "output_type": "execute_result",
          "data": {
            "text/plain": [
              "array([9, 2, 1, 1, 6, 1, 4, 6, 5, 7])"
            ]
          },
          "metadata": {
            "tags": []
          },
          "execution_count": 52
        }
      ]
    },
    {
      "cell_type": "code",
      "metadata": {
        "colab": {
          "base_uri": "https://localhost:8080/"
        },
        "id": "bC0WglN7xXed",
        "outputId": "6bfe33ee-fa84-4b08-ae11-b6a81db3c1ee"
      },
      "source": [
        "CM = confusion_matrix(test_labels,y_pred)\n",
        "print(CM)"
      ],
      "execution_count": 53,
      "outputs": [
        {
          "output_type": "stream",
          "text": [
            "[[828   3  19  29   3   0 110   0   8   0]\n",
            " [  1 969   2  24   2   0   1   0   1   0]\n",
            " [ 24   1 790  16 101   0  65   0   3   0]\n",
            " [ 23  11  10 920  19   0  12   0   5   0]\n",
            " [  0   0  83  41 843   0  30   0   3   0]\n",
            " [  0   0   0   0   0 950   0  23  10  17]\n",
            " [123   1  84  37 121   0 622   0  12   0]\n",
            " [  0   0   0   0   0  18   0 931   8  43]\n",
            " [ 11   1   1   5   4   2   8   1 967   0]\n",
            " [  1   0   0   0   0  10   0  40   0 949]]\n"
          ],
          "name": "stdout"
        }
      ]
    }
  ]
}